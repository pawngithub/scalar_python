{
 "cells": [
  {
   "cell_type": "code",
   "execution_count": null,
   "id": "105587c2-3190-4be5-8899-004b0f9956e5",
   "metadata": {},
   "outputs": [],
   "source": [
    "#want to show something as output: use print function"
   ]
  },
  {
   "cell_type": "code",
   "execution_count": 1,
   "id": "56da6bdd-4532-4101-9a8b-59afc62f5a38",
   "metadata": {},
   "outputs": [
    {
     "name": "stdout",
     "output_type": "stream",
     "text": [
      "hello world\n"
     ]
    }
   ],
   "source": [
    "print(\"hello world\")"
   ]
  },
  {
   "cell_type": "code",
   "execution_count": 5,
   "id": "b96bc394-d0b6-437c-8b82-04fe06feaa8e",
   "metadata": {
    "tags": []
   },
   "outputs": [],
   "source": [
    "# variable"
   ]
  },
  {
   "cell_type": "code",
   "execution_count": null,
   "id": "fa1df122-bad4-48a0-bf34-8473957f4bde",
   "metadata": {},
   "outputs": [],
   "source": [
    "# Variable are place holders for storing data\n",
    "### NAMING A VARIABLE\n",
    "## RULES FOR NAMING PYHON VARIABLE:\n",
    "### A variable name must start with a letter or the underscore character\n",
    "### A variable name cannot start with a number (0-9)\n",
    "### A variable name can only contain alpha-numeric characters and underscore(A-z, 0-9,_)\n",
    "### variable names are case sensitive (age, Age and AGE are three different variable)\n",
    "### inbuilt keywords should not be used as identifiers"
   ]
  },
  {
   "cell_type": "code",
   "execution_count": 6,
   "id": "b4bdbf6a-c035-4674-94f4-ad54220c8865",
   "metadata": {
    "tags": []
   },
   "outputs": [
    {
     "name": "stdout",
     "output_type": "stream",
     "text": [
      "3\n"
     ]
    }
   ],
   "source": [
    "a=3\n",
    "print(a)"
   ]
  },
  {
   "cell_type": "code",
   "execution_count": 7,
   "id": "12889b87-960a-40af-85bc-2df84efea18c",
   "metadata": {
    "tags": []
   },
   "outputs": [
    {
     "name": "stdout",
     "output_type": "stream",
     "text": [
      "48\n"
     ]
    }
   ],
   "source": [
    "(alpha numeric variable, pawan_09)\n",
    "pawan_09= 48\n",
    "print(pawan_09)"
   ]
  },
  {
   "cell_type": "code",
   "execution_count": null,
   "id": "4481b3f8-63ed-4d36-9b2d-7f46d40299fa",
   "metadata": {},
   "outputs": [],
   "source": []
  },
  {
   "cell_type": "code",
   "execution_count": 10,
   "id": "49335df6-1b88-4b5a-bbc8-de9dfdf5d669",
   "metadata": {
    "tags": []
   },
   "outputs": [
    {
     "name": "stdout",
     "output_type": "stream",
     "text": [
      "\n",
      "Here is a list of the Python keywords.  Enter any keyword to get more help.\n",
      "\n",
      "False               class               from                or\n",
      "None                continue            global              pass\n",
      "True                def                 if                  raise\n",
      "and                 del                 import              return\n",
      "as                  elif                in                  try\n",
      "assert              else                is                  while\n",
      "async               except              lambda              with\n",
      "await               finally             nonlocal            yield\n",
      "break               for                 not                 \n",
      "\n"
     ]
    }
   ],
   "source": [
    "#inbuilt keywords \n",
    "help('keywords')"
   ]
  },
  {
   "cell_type": "code",
   "execution_count": null,
   "id": "cc91ea64-9123-46b9-a8c7-77f7186c511d",
   "metadata": {},
   "outputs": [],
   "source": []
  },
  {
   "cell_type": "code",
   "execution_count": 11,
   "id": "bdda8021-58a3-4b64-bdf6-a7293ac934f3",
   "metadata": {
    "tags": []
   },
   "outputs": [],
   "source": [
    "# Memory allowcation"
   ]
  },
  {
   "cell_type": "code",
   "execution_count": null,
   "id": "c757bb5c-9401-4f16-b71e-e2e83d2431a1",
   "metadata": {},
   "outputs": [],
   "source": [
    "## how we storing variable in python memory\n",
    "two parts of memory\n",
    "1 stack memeory: continues tyes (like building one upon another) used to store variable\n",
    "2 Heap memeory: used to store the variable actual values "
   ]
  },
  {
   "cell_type": "code",
   "execution_count": null,
   "id": "05ffc445-5bff-4d33-b3f9-982e4bb9597d",
   "metadata": {},
   "outputs": [],
   "source": []
  },
  {
   "cell_type": "code",
   "execution_count": 12,
   "id": "6a3008fe-3c0f-4c04-af24-8bca7587d03b",
   "metadata": {
    "tags": []
   },
   "outputs": [],
   "source": [
    "### id function"
   ]
  },
  {
   "cell_type": "code",
   "execution_count": 13,
   "id": "3bc0b72f-f6fb-4171-8dc2-113957f15e9f",
   "metadata": {
    "tags": []
   },
   "outputs": [
    {
     "data": {
      "text/plain": [
       "4345652664"
      ]
     },
     "execution_count": 13,
     "metadata": {},
     "output_type": "execute_result"
    }
   ],
   "source": [
    "x=8\n",
    "id(x)"
   ]
  },
  {
   "cell_type": "code",
   "execution_count": 14,
   "id": "b090d047-b593-4922-9399-711482dfa0bd",
   "metadata": {
    "tags": []
   },
   "outputs": [
    {
     "name": "stdout",
     "output_type": "stream",
     "text": [
      "4345655544\n"
     ]
    }
   ],
   "source": [
    "x = 98\n",
    "print((id(x)))"
   ]
  },
  {
   "cell_type": "code",
   "execution_count": 15,
   "id": "d14e7285-cc5e-4b84-b104-d19e492b4030",
   "metadata": {
    "tags": []
   },
   "outputs": [
    {
     "name": "stdout",
     "output_type": "stream",
     "text": [
      "4422358128\n"
     ]
    }
   ],
   "source": [
    "name=\"pawan\"\n",
    "print(id(name))"
   ]
  },
  {
   "cell_type": "code",
   "execution_count": null,
   "id": "1417e10c-9e29-4259-b7d7-6b0426cc22ac",
   "metadata": {
    "jupyter": {
     "source_hidden": true
    },
    "tags": []
   },
   "outputs": [],
   "source": []
  },
  {
   "cell_type": "code",
   "execution_count": null,
   "id": "6245e39d-a709-47cd-9c0d-0198f6b49d69",
   "metadata": {
    "tags": []
   },
   "outputs": [],
   "source": [
    "## DATA TYPES\n",
    "# integer\n",
    "# floats\n",
    "# booleans\n",
    "# strings\n",
    "# None"
   ]
  },
  {
   "cell_type": "code",
   "execution_count": null,
   "id": "54789cb3-68e4-49f7-a5f1-754be63fb659",
   "metadata": {},
   "outputs": [],
   "source": [
    "# integer"
   ]
  },
  {
   "cell_type": "code",
   "execution_count": 16,
   "id": "8b9d0f13-a545-43b4-874a-835d1d5d3293",
   "metadata": {
    "tags": []
   },
   "outputs": [],
   "source": [
    "number = 28"
   ]
  },
  {
   "cell_type": "code",
   "execution_count": 17,
   "id": "d87aea5e-38c8-47cb-b966-75c4e0efd850",
   "metadata": {
    "tags": []
   },
   "outputs": [
    {
     "name": "stdout",
     "output_type": "stream",
     "text": [
      "28\n"
     ]
    }
   ],
   "source": [
    "print(number)"
   ]
  },
  {
   "cell_type": "code",
   "execution_count": 18,
   "id": "2dfed765-f60b-4fea-bcad-6e1bda75f04f",
   "metadata": {
    "tags": []
   },
   "outputs": [],
   "source": [
    "# type"
   ]
  },
  {
   "cell_type": "code",
   "execution_count": 19,
   "id": "5646c3e8-f5ac-4411-b296-259c66d637dd",
   "metadata": {
    "tags": []
   },
   "outputs": [
    {
     "name": "stdout",
     "output_type": "stream",
     "text": [
      "<class 'int'>\n",
      "12\n"
     ]
    }
   ],
   "source": [
    "a=12\n",
    "print(type(a))\n",
    "print (a)"
   ]
  },
  {
   "cell_type": "code",
   "execution_count": 1,
   "id": "f455066f-bead-4555-b048-7314aa3be478",
   "metadata": {},
   "outputs": [],
   "source": [
    "#float"
   ]
  },
  {
   "cell_type": "code",
   "execution_count": 2,
   "id": "a9308d05-c61c-4c16-bc5b-95742b65f0e9",
   "metadata": {
    "tags": []
   },
   "outputs": [
    {
     "name": "stdout",
     "output_type": "stream",
     "text": [
      "8.7\n",
      "<class 'float'>\n"
     ]
    }
   ],
   "source": [
    "b=8.7\n",
    "print(b)\n",
    "print(type(b))"
   ]
  },
  {
   "cell_type": "code",
   "execution_count": 4,
   "id": "546251ce-b538-45f1-891d-1e3a4f8974bb",
   "metadata": {
    "tags": []
   },
   "outputs": [
    {
     "name": "stdout",
     "output_type": "stream",
     "text": [
      "b\n"
     ]
    }
   ],
   "source": [
    "print(\"b\")"
   ]
  },
  {
   "cell_type": "code",
   "execution_count": 3,
   "id": "0504a2a3-cc86-4b3d-ae4c-4480a9cc8e8b",
   "metadata": {
    "tags": []
   },
   "outputs": [],
   "source": [
    "#boolean, used for confirmation"
   ]
  },
  {
   "cell_type": "code",
   "execution_count": 5,
   "id": "abc45a4f-ec51-4c61-bb96-d4510661c083",
   "metadata": {
    "tags": []
   },
   "outputs": [
    {
     "name": "stdout",
     "output_type": "stream",
     "text": [
      "True\n",
      "<class 'bool'>\n"
     ]
    }
   ],
   "source": [
    "name= True\n",
    "print(name)\n",
    "print(type(name))"
   ]
  },
  {
   "cell_type": "code",
   "execution_count": 6,
   "id": "8996473c-1a77-4959-b1eb-c82cd920daf4",
   "metadata": {
    "tags": []
   },
   "outputs": [
    {
     "name": "stdout",
     "output_type": "stream",
     "text": [
      "False\n",
      "<class 'bool'>\n"
     ]
    }
   ],
   "source": [
    "b1= False\n",
    "print(b1)\n",
    "print(type(b1))"
   ]
  },
  {
   "cell_type": "code",
   "execution_count": 10,
   "id": "ee21be3e-8ae9-433b-b813-04f97ff233a0",
   "metadata": {
    "tags": []
   },
   "outputs": [],
   "source": [
    "#strings variable contianed in between \"...\", '.....' anything in cotes called strings"
   ]
  },
  {
   "cell_type": "code",
   "execution_count": 11,
   "id": "85d22a02-5b78-4533-aa98-8df9749cdafa",
   "metadata": {
    "tags": []
   },
   "outputs": [
    {
     "name": "stdout",
     "output_type": "stream",
     "text": [
      "pawan 30_\n",
      "<class 'str'>\n"
     ]
    }
   ],
   "source": [
    "s=\"pawan 30_\"\n",
    "print(s)\n",
    "print(type(s))"
   ]
  },
  {
   "cell_type": "code",
   "execution_count": 16,
   "id": "b9d96230-9062-4cad-a2d4-65e3d1e99d40",
   "metadata": {
    "tags": []
   },
   "outputs": [
    {
     "name": "stdout",
     "output_type": "stream",
     "text": [
      " this is a multiline string\n",
      "<class 'str'>\n"
     ]
    }
   ],
   "source": [
    "m= \"\"\" this is a multiline string\"\"\"\n",
    "\n",
    "print(m)\n",
    "print(type(m))"
   ]
  },
  {
   "cell_type": "code",
   "execution_count": 17,
   "id": "ff5e8a89-9933-43e2-ad46-63751f9a41cd",
   "metadata": {
    "tags": []
   },
   "outputs": [],
   "source": [
    "# None: void value"
   ]
  },
  {
   "cell_type": "code",
   "execution_count": 18,
   "id": "29408533-4677-4085-8137-f83a69259a84",
   "metadata": {
    "tags": []
   },
   "outputs": [
    {
     "name": "stdout",
     "output_type": "stream",
     "text": [
      "None\n",
      "<class 'NoneType'>\n"
     ]
    }
   ],
   "source": [
    "n= None\n",
    "print(n)\n",
    "print(type(n))"
   ]
  },
  {
   "cell_type": "code",
   "execution_count": null,
   "id": "30193d19-d3d9-4a63-8352-e75945033753",
   "metadata": {},
   "outputs": [],
   "source": []
  },
  {
   "cell_type": "code",
   "execution_count": 1,
   "id": "81b8b89b-894f-4098-bd97-c9eba2200a05",
   "metadata": {
    "tags": []
   },
   "outputs": [],
   "source": [
    "# input function"
   ]
  },
  {
   "cell_type": "code",
   "execution_count": 5,
   "id": "b3c105e5-1880-4ffc-a414-67285dac8f36",
   "metadata": {
    "tags": []
   },
   "outputs": [
    {
     "name": "stdin",
     "output_type": "stream",
     "text": [
      " shawshank\n"
     ]
    }
   ],
   "source": [
    "name = input()"
   ]
  },
  {
   "cell_type": "code",
   "execution_count": 6,
   "id": "ed98d394-4a99-49ea-90f3-1f55c4019e23",
   "metadata": {},
   "outputs": [
    {
     "name": "stdout",
     "output_type": "stream",
     "text": [
      "shawshank\n"
     ]
    }
   ],
   "source": [
    "print(name)"
   ]
  },
  {
   "cell_type": "code",
   "execution_count": 7,
   "id": "4e2966d5-908e-4d79-8cf3-8bf7b31680b3",
   "metadata": {
    "tags": []
   },
   "outputs": [
    {
     "name": "stdout",
     "output_type": "stream",
     "text": [
      "<class 'str'>\n"
     ]
    }
   ],
   "source": [
    "print(type(name))"
   ]
  },
  {
   "cell_type": "code",
   "execution_count": null,
   "id": "96ecc81d-4d80-4def-a400-844e33ec0585",
   "metadata": {},
   "outputs": [],
   "source": []
  },
  {
   "cell_type": "code",
   "execution_count": 8,
   "id": "d8a06f73-ddf0-466c-9ad0-c8f3a81d52e1",
   "metadata": {
    "tags": []
   },
   "outputs": [],
   "source": [
    "# number as input"
   ]
  },
  {
   "cell_type": "code",
   "execution_count": 9,
   "id": "4d387888-b3f0-4df3-851e-70d818b90ff3",
   "metadata": {
    "tags": []
   },
   "outputs": [
    {
     "name": "stdin",
     "output_type": "stream",
     "text": [
      " 6\n"
     ]
    }
   ],
   "source": [
    "x= input()"
   ]
  },
  {
   "cell_type": "code",
   "execution_count": 10,
   "id": "cf696794-860f-45b6-914e-0bc448838b1e",
   "metadata": {
    "tags": []
   },
   "outputs": [
    {
     "name": "stdout",
     "output_type": "stream",
     "text": [
      "6\n"
     ]
    }
   ],
   "source": [
    "print(x)"
   ]
  },
  {
   "cell_type": "code",
   "execution_count": 11,
   "id": "281c6d6a-bb9a-418d-b32d-04a4d8c04d98",
   "metadata": {
    "tags": []
   },
   "outputs": [
    {
     "name": "stdout",
     "output_type": "stream",
     "text": [
      "<class 'str'>\n"
     ]
    }
   ],
   "source": [
    "print(type(x))"
   ]
  },
  {
   "cell_type": "code",
   "execution_count": null,
   "id": "1fe801d6-415d-4e63-ad48-abf0de98f2fa",
   "metadata": {},
   "outputs": [],
   "source": []
  },
  {
   "cell_type": "code",
   "execution_count": null,
   "id": "7c86b2ea-c8f9-4adb-b952-1ce75eff56af",
   "metadata": {},
   "outputs": [],
   "source": []
  },
  {
   "cell_type": "code",
   "execution_count": 12,
   "id": "2612c5b5-75ab-4272-a48b-3a4be720e318",
   "metadata": {
    "tags": []
   },
   "outputs": [],
   "source": [
    "# type conversion"
   ]
  },
  {
   "cell_type": "code",
   "execution_count": 13,
   "id": "b0245083-9a5d-40a7-a7f3-bc339e845812",
   "metadata": {
    "tags": []
   },
   "outputs": [
    {
     "data": {
      "text/plain": [
       "'6'"
      ]
     },
     "execution_count": 13,
     "metadata": {},
     "output_type": "execute_result"
    }
   ],
   "source": [
    "x"
   ]
  },
  {
   "cell_type": "code",
   "execution_count": 14,
   "id": "ba33a472-a5c3-4560-a53d-1ac88b5387c0",
   "metadata": {
    "tags": []
   },
   "outputs": [],
   "source": [
    "y = int(x)"
   ]
  },
  {
   "cell_type": "code",
   "execution_count": 15,
   "id": "4d19b080-4b08-4842-8fe9-c12c5f7c41de",
   "metadata": {
    "tags": []
   },
   "outputs": [
    {
     "name": "stdout",
     "output_type": "stream",
     "text": [
      "6\n",
      "<class 'int'>\n"
     ]
    }
   ],
   "source": [
    "print(y)\n",
    "print(type(y))"
   ]
  },
  {
   "cell_type": "code",
   "execution_count": null,
   "id": "c87921f5-f139-416f-9421-0388fadb2b4c",
   "metadata": {},
   "outputs": [],
   "source": []
  },
  {
   "cell_type": "code",
   "execution_count": 17,
   "id": "938593dd-8e44-4ccc-949d-ba3cbd076a16",
   "metadata": {
    "tags": []
   },
   "outputs": [
    {
     "name": "stdin",
     "output_type": "stream",
     "text": [
      " 9.8\n"
     ]
    }
   ],
   "source": [
    "x= input()"
   ]
  },
  {
   "cell_type": "code",
   "execution_count": 18,
   "id": "d0f1ff5e-1477-4782-823f-4def5de0316a",
   "metadata": {
    "tags": []
   },
   "outputs": [
    {
     "data": {
      "text/plain": [
       "str"
      ]
     },
     "execution_count": 18,
     "metadata": {},
     "output_type": "execute_result"
    }
   ],
   "source": [
    "type(x)"
   ]
  },
  {
   "cell_type": "code",
   "execution_count": 19,
   "id": "9771d38c-33a7-401b-afd5-c49921e39e2b",
   "metadata": {
    "tags": []
   },
   "outputs": [
    {
     "name": "stdout",
     "output_type": "stream",
     "text": [
      "9.8\n",
      "<class 'float'>\n"
     ]
    }
   ],
   "source": [
    "b= float(x)\n",
    "print(b)\n",
    "print(type(b))"
   ]
  },
  {
   "cell_type": "code",
   "execution_count": 20,
   "id": "f4243938-c710-4e39-bffe-c0a7e6947062",
   "metadata": {
    "tags": []
   },
   "outputs": [],
   "source": [
    "# convert float into integer"
   ]
  },
  {
   "cell_type": "code",
   "execution_count": 21,
   "id": "70dd2804-445f-4e69-a9b4-3f717a5b8028",
   "metadata": {
    "tags": []
   },
   "outputs": [
    {
     "data": {
      "text/plain": [
       "float"
      ]
     },
     "execution_count": 21,
     "metadata": {},
     "output_type": "execute_result"
    }
   ],
   "source": [
    "k= float(\"9.8\")\n",
    "type(k)"
   ]
  },
  {
   "cell_type": "code",
   "execution_count": 22,
   "id": "4b02e946-38b8-45c2-b695-f28b4a50066d",
   "metadata": {
    "tags": []
   },
   "outputs": [
    {
     "data": {
      "text/plain": [
       "9"
      ]
     },
     "execution_count": 22,
     "metadata": {},
     "output_type": "execute_result"
    }
   ],
   "source": [
    "int (k)"
   ]
  },
  {
   "cell_type": "code",
   "execution_count": null,
   "id": "601af505-f8c4-4334-9304-8acff3a6ee79",
   "metadata": {},
   "outputs": [],
   "source": []
  }
 ],
 "metadata": {
  "kernelspec": {
   "display_name": "Python 3 (ipykernel)",
   "language": "python",
   "name": "python3"
  },
  "language_info": {
   "codemirror_mode": {
    "name": "ipython",
    "version": 3
   },
   "file_extension": ".py",
   "mimetype": "text/x-python",
   "name": "python",
   "nbconvert_exporter": "python",
   "pygments_lexer": "ipython3",
   "version": "3.11.5"
  }
 },
 "nbformat": 4,
 "nbformat_minor": 5
}

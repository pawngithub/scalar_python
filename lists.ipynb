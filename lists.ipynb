{
 "cells": [
  {
   "cell_type": "markdown",
   "id": "f9afcb87-e013-4583-b2fb-b2bfe1198ed5",
   "metadata": {
    "tags": []
   },
   "source": [
    "### List"
   ]
  },
  {
   "cell_type": "code",
   "execution_count": null,
   "id": "934767c0-b00c-4e5d-8dcb-374b54f733bd",
   "metadata": {},
   "outputs": [],
   "source": []
  },
  {
   "cell_type": "markdown",
   "id": "f0384350-c14e-4899-9069-2bb5956d28b4",
   "metadata": {
    "tags": []
   },
   "source": [
    "# Data Structures\n",
    "### • DS is specialized format for organizing , processing retriving and storing data\n"
   ]
  },
  {
   "cell_type": "code",
   "execution_count": 13,
   "id": "e5e2b43c-902a-4929-ba97-8bb61d1c970c",
   "metadata": {
    "tags": []
   },
   "outputs": [],
   "source": [
    "# want to store  data more efficiently?"
   ]
  },
  {
   "cell_type": "markdown",
   "id": "5ed2bc0c-0e5e-4690-ab82-a66aa901e62a",
   "metadata": {
    "tags": []
   },
   "source": [
    "#### • Ordered collectionn of data\n",
    "#### • Mutable or (changeable) \n",
    "#### • contain multiple type of data and are iterable"
   ]
  },
  {
   "cell_type": "code",
   "execution_count": 18,
   "id": "d407b718-3061-44bc-a62a-2923be7f7078",
   "metadata": {
    "tags": []
   },
   "outputs": [
    {
     "name": "stdout",
     "output_type": "stream",
     "text": [
      "<class 'list'>\n"
     ]
    }
   ],
   "source": [
    "l= list()\n",
    "print(type(l))"
   ]
  },
  {
   "cell_type": "code",
   "execution_count": 20,
   "id": "56ceaa57-636b-441c-96be-ab9dac9a7ed2",
   "metadata": {
    "tags": []
   },
   "outputs": [
    {
     "data": {
      "text/plain": [
       "list"
      ]
     },
     "execution_count": 20,
     "metadata": {},
     "output_type": "execute_result"
    }
   ],
   "source": [
    "l1= [ 1,2,4,True]\n",
    "type(l1)"
   ]
  },
  {
   "cell_type": "code",
   "execution_count": 21,
   "id": "cb41e8d5-7827-4ad3-907c-4aa6a64d6846",
   "metadata": {
    "tags": []
   },
   "outputs": [
    {
     "data": {
      "text/plain": [
       "[1, 2, 4, True]"
      ]
     },
     "execution_count": 21,
     "metadata": {},
     "output_type": "execute_result"
    }
   ],
   "source": [
    "l1"
   ]
  },
  {
   "cell_type": "code",
   "execution_count": 22,
   "id": "4adfbb13-99db-4ef1-8ecb-d4f43db03578",
   "metadata": {
    "tags": []
   },
   "outputs": [
    {
     "data": {
      "text/plain": [
       "1"
      ]
     },
     "execution_count": 22,
     "metadata": {},
     "output_type": "execute_result"
    }
   ],
   "source": [
    "l1[0]"
   ]
  },
  {
   "cell_type": "code",
   "execution_count": 23,
   "id": "e301015a-8c16-45b4-8137-628d5c40efca",
   "metadata": {
    "tags": []
   },
   "outputs": [
    {
     "data": {
      "text/plain": [
       "True"
      ]
     },
     "execution_count": 23,
     "metadata": {},
     "output_type": "execute_result"
    }
   ],
   "source": [
    "l1[-1]"
   ]
  },
  {
   "cell_type": "code",
   "execution_count": 24,
   "id": "fff25cb2-7c77-4795-a5da-e795fa58d8d6",
   "metadata": {
    "tags": []
   },
   "outputs": [
    {
     "data": {
      "text/plain": [
       "1"
      ]
     },
     "execution_count": 24,
     "metadata": {},
     "output_type": "execute_result"
    }
   ],
   "source": [
    "l1[-len(l1)]"
   ]
  },
  {
   "cell_type": "code",
   "execution_count": 25,
   "id": "d99de089-caa8-4b2e-8d40-aa2aaeb9e1e2",
   "metadata": {
    "tags": []
   },
   "outputs": [],
   "source": [
    "# mutablity"
   ]
  },
  {
   "cell_type": "code",
   "execution_count": 26,
   "id": "ac00ab6f-0b07-425f-9a0b-cc83fa9d2230",
   "metadata": {
    "tags": []
   },
   "outputs": [
    {
     "data": {
      "text/plain": [
       "[1, 2, 4, True]"
      ]
     },
     "execution_count": 26,
     "metadata": {},
     "output_type": "execute_result"
    }
   ],
   "source": [
    "l1"
   ]
  },
  {
   "cell_type": "code",
   "execution_count": 27,
   "id": "68abe5a2-32db-4d51-8421-48c66568a4b3",
   "metadata": {
    "tags": []
   },
   "outputs": [
    {
     "data": {
      "text/plain": [
       "4454655232"
      ]
     },
     "execution_count": 27,
     "metadata": {},
     "output_type": "execute_result"
    }
   ],
   "source": [
    "id(l1)"
   ]
  },
  {
   "cell_type": "code",
   "execution_count": 29,
   "id": "724a593c-e47b-4ca1-8ae3-e4b53b68d2a1",
   "metadata": {
    "tags": []
   },
   "outputs": [
    {
     "name": "stdout",
     "output_type": "stream",
     "text": [
      "[10, 2, 4, True]\n"
     ]
    }
   ],
   "source": [
    "l1[0]=10\n",
    "print (l1)"
   ]
  },
  {
   "cell_type": "code",
   "execution_count": 30,
   "id": "c9541229-7cc6-4897-b7f6-9f9f6c7607fc",
   "metadata": {
    "tags": []
   },
   "outputs": [
    {
     "data": {
      "text/plain": [
       "4454655232"
      ]
     },
     "execution_count": 30,
     "metadata": {},
     "output_type": "execute_result"
    }
   ],
   "source": [
    "id(l1)"
   ]
  },
  {
   "cell_type": "code",
   "execution_count": null,
   "id": "b4d44522-ae18-44ad-a041-92bd50814ccd",
   "metadata": {},
   "outputs": [],
   "source": []
  },
  {
   "cell_type": "code",
   "execution_count": 31,
   "id": "bd821084-c8a9-4246-8444-34b669e5d25d",
   "metadata": {
    "tags": []
   },
   "outputs": [],
   "source": [
    "# list slicing"
   ]
  },
  {
   "cell_type": "code",
   "execution_count": 32,
   "id": "548a26f3-12a7-4b37-96ed-60daadc9d62a",
   "metadata": {
    "tags": []
   },
   "outputs": [
    {
     "data": {
      "text/plain": [
       "7"
      ]
     },
     "execution_count": 32,
     "metadata": {},
     "output_type": "execute_result"
    }
   ],
   "source": [
    "list= [7,3,2,6,7,4,5]\n",
    "len(list)"
   ]
  },
  {
   "cell_type": "code",
   "execution_count": 34,
   "id": "40b88345-23ba-467f-ae3a-5793f1913c76",
   "metadata": {
    "tags": []
   },
   "outputs": [
    {
     "data": {
      "text/plain": [
       "[7, 3, 2, 6]"
      ]
     },
     "execution_count": 34,
     "metadata": {},
     "output_type": "execute_result"
    }
   ],
   "source": [
    "list[0:4]"
   ]
  },
  {
   "cell_type": "code",
   "execution_count": 35,
   "id": "43daa128-7c60-411a-b1ed-454f2d8b1120",
   "metadata": {
    "tags": []
   },
   "outputs": [
    {
     "data": {
      "text/plain": [
       "[2, 6]"
      ]
     },
     "execution_count": 35,
     "metadata": {},
     "output_type": "execute_result"
    }
   ],
   "source": [
    "list[2:4]"
   ]
  },
  {
   "cell_type": "code",
   "execution_count": 37,
   "id": "461ba9d3-c9d6-4cbe-b8b4-016be6377760",
   "metadata": {
    "tags": []
   },
   "outputs": [
    {
     "data": {
      "text/plain": [
       "[3, 2, 6, 7, 4]"
      ]
     },
     "execution_count": 37,
     "metadata": {},
     "output_type": "execute_result"
    }
   ],
   "source": [
    "list[1:6:1]"
   ]
  },
  {
   "cell_type": "code",
   "execution_count": 38,
   "id": "850f3c69-daba-4057-8ea6-ffa4ce3e32ae",
   "metadata": {
    "tags": []
   },
   "outputs": [
    {
     "data": {
      "text/plain": [
       "[5, 4, 7, 6, 2, 3, 7]"
      ]
     },
     "execution_count": 38,
     "metadata": {},
     "output_type": "execute_result"
    }
   ],
   "source": [
    "list[: :-1]"
   ]
  },
  {
   "cell_type": "code",
   "execution_count": 39,
   "id": "03bf7f9f-ac1a-42c3-80bc-7cc2b281c2df",
   "metadata": {
    "tags": []
   },
   "outputs": [
    {
     "data": {
      "text/plain": [
       "[]"
      ]
     },
     "execution_count": 39,
     "metadata": {},
     "output_type": "execute_result"
    }
   ],
   "source": [
    "list[4:0]"
   ]
  },
  {
   "cell_type": "code",
   "execution_count": 40,
   "id": "120d878d-f6fb-4587-805e-d69b472998ce",
   "metadata": {
    "tags": []
   },
   "outputs": [
    {
     "data": {
      "text/plain": [
       "[7, 6, 2, 3]"
      ]
     },
     "execution_count": 40,
     "metadata": {},
     "output_type": "execute_result"
    }
   ],
   "source": [
    "list[4:0:-1]"
   ]
  },
  {
   "cell_type": "code",
   "execution_count": null,
   "id": "dac360c4-48d3-4de9-a3d6-33f3d4015f74",
   "metadata": {},
   "outputs": [],
   "source": []
  },
  {
   "cell_type": "markdown",
   "id": "dc6b61de-b6d4-4e77-b75d-ae0008755148",
   "metadata": {},
   "source": [
    "# list operation"
   ]
  },
  {
   "cell_type": "code",
   "execution_count": null,
   "id": "383b1b8b-b2b1-4250-8b5f-f4b6653ce3a7",
   "metadata": {},
   "outputs": [],
   "source": []
  },
  {
   "cell_type": "code",
   "execution_count": null,
   "id": "5922cf65-40dc-4b20-a048-f966e83f9224",
   "metadata": {},
   "outputs": [],
   "source": []
  },
  {
   "cell_type": "code",
   "execution_count": null,
   "id": "04cedb68-e580-40f3-9162-afb939b27c2d",
   "metadata": {},
   "outputs": [],
   "source": []
  },
  {
   "cell_type": "markdown",
   "id": "ec4d9a51-29bb-40d5-b730-37c288ec8b8a",
   "metadata": {},
   "source": [
    "# list comprehension"
   ]
  },
  {
   "cell_type": "code",
   "execution_count": 2,
   "id": "7890ed5e-4479-4e23-832d-2ebfea1e8576",
   "metadata": {
    "tags": []
   },
   "outputs": [
    {
     "name": "stdout",
     "output_type": "stream",
     "text": [
      "0 1 2 3 4 5 6 7 8 9 "
     ]
    }
   ],
   "source": [
    "for i in range(10):\n",
    "    print(i, end= ' ')"
   ]
  },
  {
   "cell_type": "code",
   "execution_count": 21,
   "id": "0e5373dc-fb49-4c9e-acac-d11aa18fc594",
   "metadata": {
    "tags": []
   },
   "outputs": [
    {
     "name": "stdout",
     "output_type": "stream",
     "text": [
      "[0, 1, 4, 9, 16, 25, 36, 49, 64, 81]\n"
     ]
    }
   ],
   "source": [
    "list=[]\n",
    "\n",
    "\n",
    "for i in range(10):\n",
    "    list.append(i**2) \n",
    "print(list)"
   ]
  },
  {
   "cell_type": "code",
   "execution_count": null,
   "id": "7f50428a-5435-4c7f-ac6e-c8d8d6f6cf35",
   "metadata": {},
   "outputs": [],
   "source": []
  },
  {
   "cell_type": "code",
   "execution_count": 14,
   "id": "e656b310-20ef-40fd-a9f0-cf5138b2f17d",
   "metadata": {
    "tags": []
   },
   "outputs": [
    {
     "data": {
      "text/plain": [
       "[0, 1, 2, 3, 4, 5, 6, 7, 8, 9, 10, 11, 12, 13, 14]"
      ]
     },
     "execution_count": 14,
     "metadata": {},
     "output_type": "execute_result"
    }
   ],
   "source": [
    "l = [i for i in range(15)] # list comprehenssionn\n",
    "l"
   ]
  },
  {
   "cell_type": "code",
   "execution_count": null,
   "id": "d93efc5a-4941-4ba7-924c-72ece14f72a7",
   "metadata": {},
   "outputs": [],
   "source": []
  },
  {
   "cell_type": "code",
   "execution_count": 18,
   "id": "64e061e1-e5de-44f2-a164-df30977de0fa",
   "metadata": {
    "tags": []
   },
   "outputs": [
    {
     "name": "stdout",
     "output_type": "stream",
     "text": [
      "0 1 4 9 16 25 36 49 64 81 "
     ]
    }
   ],
   "source": [
    "# square of i\n",
    "\n",
    "for i in range(10):\n",
    "    print(i**2, end= ' ')\n"
   ]
  },
  {
   "cell_type": "code",
   "execution_count": 20,
   "id": "fdf9e6cf-1cdc-49e6-89d2-9ac3cb8b3de2",
   "metadata": {
    "tags": []
   },
   "outputs": [
    {
     "data": {
      "text/plain": [
       "[0, 1, 4, 9, 16, 25, 36, 49, 64, 81, 100, 121, 144, 169, 196]"
      ]
     },
     "execution_count": 20,
     "metadata": {},
     "output_type": "execute_result"
    }
   ],
   "source": [
    "l = [i**2 for i in range(15)] # list comprehenssionn\n",
    "l"
   ]
  },
  {
   "cell_type": "code",
   "execution_count": null,
   "id": "d719f7a8-4fa0-4afc-8c7d-943f9c769d56",
   "metadata": {},
   "outputs": [],
   "source": []
  },
  {
   "cell_type": "markdown",
   "id": "2d3f2300-3d22-4d1c-80a9-6cffe715c58c",
   "metadata": {},
   "source": [
    "# find total population (challenge)\n",
    "\n",
    "##### ◆ Given a list of population sensus done by GOI. YOU NEED TO FIND THE TOTAL POPULATION\n",
    "##### ◆ Each element in the list represents total members in a family\n",
    "##### ◆ I= [4,5,6,4,3,6,8,9,6,4,9,8,1,3,6]"
   ]
  },
  {
   "cell_type": "code",
   "execution_count": 26,
   "id": "3059a379-6b65-4ee9-b0fc-93fda5b050da",
   "metadata": {
    "tags": []
   },
   "outputs": [
    {
     "name": "stdout",
     "output_type": "stream",
     "text": [
      "82\n"
     ]
    }
   ],
   "source": [
    "# adding all the element in the list\n",
    "# access all the element of the list \n",
    "\n",
    "l = [4,5,6,4,3,6,8,9,6,4,9,8,1,3,6]\n",
    "\n",
    "total_population = 0    \n",
    "\n",
    "for i in l:\n",
    "    # sum them up\n",
    "    total_population +=i #(i+total_population) \n",
    "print(total_population )\n",
    "    \n",
    "\n"
   ]
  },
  {
   "cell_type": "code",
   "execution_count": null,
   "id": "6a3228b6-6b93-47e9-b913-a54d366ee501",
   "metadata": {},
   "outputs": [],
   "source": []
  },
  {
   "cell_type": "code",
   "execution_count": null,
   "id": "a54eda6e-ab2e-46d0-a236-8f5cc0bfeb14",
   "metadata": {},
   "outputs": [],
   "source": []
  },
  {
   "cell_type": "code",
   "execution_count": 48,
   "id": "c17793d8-107c-483a-812a-71cae3b4c9a4",
   "metadata": {
    "tags": []
   },
   "outputs": [
    {
     "name": "stdout",
     "output_type": "stream",
     "text": [
      "integers_found = 6,bools_found = 0\n"
     ]
    }
   ],
   "source": [
    "my_list = [ True, 0 , 1 ,\"pawan\", 3, False, False]\n",
    "integers_found=0\n",
    "bools_found = 0\n",
    "\n",
    "for item in my_list:\n",
    "    if isinstance(item, int):\n",
    "        integers_found +=1 \n",
    "    elif isinstance(item, bool):\n",
    "        bools_found += 1\n",
    "        \n",
    "print(f\"{integers_found = },{bools_found = }\")"
   ]
  },
  {
   "cell_type": "code",
   "execution_count": 6,
   "id": "077d784c-ee18-4a14-b537-d771465b7539",
   "metadata": {
    "tags": []
   },
   "outputs": [
    {
     "name": "stdout",
     "output_type": "stream",
     "text": [
      "<class 'bool'>\n"
     ]
    }
   ],
   "source": [
    "a= bool\n",
    "print (bool)"
   ]
  },
  {
   "cell_type": "code",
   "execution_count": 33,
   "id": "ae557d2d-d387-43bb-bf6c-4de45bec139a",
   "metadata": {},
   "outputs": [
    {
     "data": {
      "text/plain": [
       "bool"
      ]
     },
     "execution_count": 33,
     "metadata": {},
     "output_type": "execute_result"
    }
   ],
   "source": [
    " i= True & False\n",
    "type(i)"
   ]
  },
  {
   "cell_type": "code",
   "execution_count": 49,
   "id": "b38374c0-7746-43d1-91ad-28cc146343cf",
   "metadata": {
    "tags": []
   },
   "outputs": [
    {
     "name": "stdout",
     "output_type": "stream",
     "text": [
      "(True, 0, 1, 'pawan', 3, False, False)\n",
      "bools_found = 0\n"
     ]
    }
   ],
   "source": [
    "my_list = (True, 0 , 1 ,\"pawan\", 3, False, False)\n",
    "\n",
    "bools_found = 0\n",
    "\n",
    "print(my_list)\n",
    "for i in my_list:\n",
    "    if i==str:\n",
    "        bools_found = i+bools_found\n",
    "print(f\"{bools_found = }\")"
   ]
  },
  {
   "cell_type": "code",
   "execution_count": 50,
   "id": "28148f17-6b39-4506-98a5-0e8feb7e96fa",
   "metadata": {
    "tags": []
   },
   "outputs": [
    {
     "data": {
      "text/plain": [
       "\u001b[0;31mSignature:\u001b[0m \u001b[0misinstance\u001b[0m\u001b[0;34m(\u001b[0m\u001b[0mobj\u001b[0m\u001b[0;34m,\u001b[0m \u001b[0mclass_or_tuple\u001b[0m\u001b[0;34m,\u001b[0m \u001b[0;34m/\u001b[0m\u001b[0;34m)\u001b[0m\u001b[0;34m\u001b[0m\u001b[0;34m\u001b[0m\u001b[0m\n",
       "\u001b[0;31mDocstring:\u001b[0m\n",
       "Return whether an object is an instance of a class or of a subclass thereof.\n",
       "\n",
       "A tuple, as in ``isinstance(x, (A, B, ...))``, may be given as the target to\n",
       "check against. This is equivalent to ``isinstance(x, A) or isinstance(x, B)\n",
       "or ...`` etc.\n",
       "\u001b[0;31mType:\u001b[0m      builtin_function_or_method"
      ]
     },
     "metadata": {},
     "output_type": "display_data"
    }
   ],
   "source": [
    "isinstance?"
   ]
  },
  {
   "cell_type": "code",
   "execution_count": 51,
   "id": "a4190e53-8779-47cf-8f2a-43eb7ade0484",
   "metadata": {
    "tags": []
   },
   "outputs": [
    {
     "name": "stdout",
     "output_type": "stream",
     "text": [
      "integers_found = 3, bools_found = 3\n"
     ]
    }
   ],
   "source": [
    "#In Python, isinstance(item, int) will return True not only for integers but also for booleans. \n",
    "#Both True and False are instances of the int class, which can be a source of confusion\n",
    "\n",
    "\n",
    "my_list = [True, 0, 1, \"pawan\", 3, False, False]\n",
    "integers_found = 0\n",
    "bools_found = 0\n",
    "\n",
    "for item in my_list:\n",
    "    if isinstance(item, int) and not isinstance(item, bool):\n",
    "        integers_found += 1\n",
    "    elif isinstance(item, bool):\n",
    "        bools_found += 1\n",
    "\n",
    "print(f\"{integers_found = }, {bools_found = }\")"
   ]
  },
  {
   "cell_type": "code",
   "execution_count": null,
   "id": "bf63645a-d384-42d6-832b-cb693219098e",
   "metadata": {},
   "outputs": [],
   "source": []
  }
 ],
 "metadata": {
  "kernelspec": {
   "display_name": "Python 3 (ipykernel)",
   "language": "python",
   "name": "python3"
  },
  "language_info": {
   "codemirror_mode": {
    "name": "ipython",
    "version": 3
   },
   "file_extension": ".py",
   "mimetype": "text/x-python",
   "name": "python",
   "nbconvert_exporter": "python",
   "pygments_lexer": "ipython3",
   "version": "3.11.5"
  }
 },
 "nbformat": 4,
 "nbformat_minor": 5
}

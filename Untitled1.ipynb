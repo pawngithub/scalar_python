{
 "cells": [
  {
   "cell_type": "markdown",
   "id": "bc0a3829-c473-4b72-9693-2200848a62c1",
   "metadata": {
    "tags": []
   },
   "source": [
    "# Print al vowels of a given strings"
   ]
  },
  {
   "cell_type": "code",
   "execution_count": null,
   "id": "ba1c7fc4-f753-4fbd-a974-d5cec1d7f8da",
   "metadata": {},
   "outputs": [],
   "source": [
    "text = \" windows are shut during the rainy time to avoid cold wind\""
   ]
  }
 ],
 "metadata": {
  "kernelspec": {
   "display_name": "Python 3 (ipykernel)",
   "language": "python",
   "name": "python3"
  },
  "language_info": {
   "codemirror_mode": {
    "name": "ipython",
    "version": 3
   },
   "file_extension": ".py",
   "mimetype": "text/x-python",
   "name": "python",
   "nbconvert_exporter": "python",
   "pygments_lexer": "ipython3",
   "version": "3.11.5"
  }
 },
 "nbformat": 4,
 "nbformat_minor": 5
}

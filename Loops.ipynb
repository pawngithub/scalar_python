{
 "cells": [
  {
   "cell_type": "markdown",
   "id": "22a101e5-c1de-4b86-9290-3f4175264e88",
   "metadata": {},
   "source": [
    "# Loop\n",
    "#### While\n",
    "#### For"
   ]
  },
  {
   "cell_type": "code",
   "execution_count": 1,
   "id": "3aeb57d8-a8fe-4e48-b5fc-40dbb7ddf2bb",
   "metadata": {
    "tags": []
   },
   "outputs": [],
   "source": [
    "# While loop\n",
    "\n",
    "# step 1 initialize\n",
    "# step 2 Loop condition\n",
    "# step 3 Updating value"
   ]
  },
  {
   "cell_type": "code",
   "execution_count": 5,
   "id": "6e477996-5964-48ca-935c-11c271926e23",
   "metadata": {
    "tags": []
   },
   "outputs": [
    {
     "name": "stdout",
     "output_type": "stream",
     "text": [
      "Pawan is multi talented!!!\n",
      "Pawan is multi talented!!!\n",
      "Pawan is multi talented!!!\n",
      "Pawan is multi talented!!!\n",
      "Pawan is multi talented!!!\n",
      "Pawan is multi talented!!!\n"
     ]
    }
   ],
   "source": [
    "# initialize\n",
    "i=1\n",
    "\n",
    "#loop conditon\n",
    "while i<=6:\n",
    "    # inside the body\n",
    "    print(\"Pawan is multi talented!!!\")\n",
    "    # update\n",
    "    i=i+1 #i +=1\n"
   ]
  },
  {
   "cell_type": "code",
   "execution_count": null,
   "id": "7aff0412-3163-4694-ae88-17fbbf2ea18b",
   "metadata": {},
   "outputs": [],
   "source": []
  },
  {
   "cell_type": "markdown",
   "id": "5e9ee1c8-508b-460a-a41b-eecf7aea39c4",
   "metadata": {},
   "source": [
    "# Print all numbers form 1 to 10 using loop"
   ]
  },
  {
   "cell_type": "code",
   "execution_count": 2,
   "id": "280384d4-9757-42b9-a276-043d0e5c1b98",
   "metadata": {},
   "outputs": [
    {
     "name": "stdout",
     "output_type": "stream",
     "text": [
      "1\n",
      "2\n",
      "3\n",
      "4\n",
      "5\n",
      "6\n",
      "7\n",
      "8\n",
      "9\n",
      "10\n"
     ]
    }
   ],
   "source": [
    "i = 1\n",
    "\n",
    "#loop condition\n",
    "while i <=10:\n",
    "    \n",
    "    #inside the body\n",
    "    print(i)\n",
    "    \n",
    "    #update\n",
    "    i +=1\n",
    "    "
   ]
  },
  {
   "cell_type": "code",
   "execution_count": 3,
   "id": "4dda911f-28ea-4f04-80a8-158dd12ae2ce",
   "metadata": {
    "tags": []
   },
   "outputs": [
    {
     "name": "stdout",
     "output_type": "stream",
     "text": [
      "1 2 3 4 5 6 7 8 9 10 "
     ]
    }
   ],
   "source": [
    "# initialize\n",
    "i = 1\n",
    "\n",
    "# condition\n",
    "while i <=10:\n",
    "    \n",
    "    #loop body\n",
    "    print(i, end=' ')\n",
    "    \n",
    "    #update\n",
    "    i +=1"
   ]
  },
  {
   "cell_type": "code",
   "execution_count": null,
   "id": "b5d0ee2b-a11c-4c11-a511-b56b9b13b8d9",
   "metadata": {},
   "outputs": [],
   "source": []
  },
  {
   "cell_type": "markdown",
   "id": "414b2366-82b3-4441-9aa2-e8be73a471fc",
   "metadata": {},
   "source": [
    "# Print all even numbers from 1 to 10"
   ]
  },
  {
   "cell_type": "code",
   "execution_count": 10,
   "id": "47e53642-b799-4692-b8d6-eec4a39baaaa",
   "metadata": {
    "tags": []
   },
   "outputs": [
    {
     "data": {
      "text/plain": [
       "1"
      ]
     },
     "execution_count": 10,
     "metadata": {},
     "output_type": "execute_result"
    }
   ],
   "source": [
    "3%2"
   ]
  },
  {
   "cell_type": "code",
   "execution_count": 11,
   "id": "82730fdc-1c8a-490a-8c6d-5ae1b502497c",
   "metadata": {
    "tags": []
   },
   "outputs": [
    {
     "data": {
      "text/plain": [
       "0"
      ]
     },
     "execution_count": 11,
     "metadata": {},
     "output_type": "execute_result"
    }
   ],
   "source": [
    "9 % 3"
   ]
  },
  {
   "cell_type": "code",
   "execution_count": 13,
   "id": "810ee470-c305-48ab-9b32-3cb56890df40",
   "metadata": {
    "tags": []
   },
   "outputs": [
    {
     "name": "stdout",
     "output_type": "stream",
     "text": [
      "0 2 4 6 8 10 "
     ]
    }
   ],
   "source": [
    "# initialize\n",
    "i=0\n",
    "\n",
    "#condition\n",
    "while i <=10:\n",
    "    #check for even\n",
    "    if i % 2 == 0:\n",
    "        print (i, end=' ')\n",
    "    \n",
    "    #update\n",
    "    i += 1"
   ]
  },
  {
   "cell_type": "code",
   "execution_count": null,
   "id": "75448df1-0be6-4e7e-9ed2-21d89bc99ff8",
   "metadata": {},
   "outputs": [],
   "source": []
  },
  {
   "cell_type": "markdown",
   "id": "e2a34643-7ffe-4c36-b850-5aace587b963",
   "metadata": {},
   "source": [
    "# Print sum of all numbers from 1 to 10"
   ]
  },
  {
   "cell_type": "code",
   "execution_count": 17,
   "id": "966ed86d-ad89-4884-a89c-5717ec180628",
   "metadata": {
    "tags": []
   },
   "outputs": [
    {
     "name": "stdout",
     "output_type": "stream",
     "text": [
      "1\n",
      "3\n",
      "6\n",
      "10\n",
      "15\n",
      "21\n",
      "28\n",
      "36\n",
      "45\n",
      "55\n"
     ]
    }
   ],
   "source": [
    "# initialize\n",
    "\n",
    "i = 1\n",
    "add = 0\n",
    "\n",
    "# loop conditon\n",
    "\n",
    "while i <= 10:\n",
    "    \n",
    "    # check the condition\n",
    "    \n",
    "    add = add+i\n",
    "    print(add)\n",
    "    \n",
    "    #update\n",
    "    i = i+1\n",
    "\n",
    "\n",
    "    "
   ]
  },
  {
   "cell_type": "code",
   "execution_count": 33,
   "id": "0263f380-a3b4-419f-8b36-6216ce3c5a20",
   "metadata": {
    "tags": []
   },
   "outputs": [
    {
     "name": "stdout",
     "output_type": "stream",
     "text": [
      "55\n"
     ]
    }
   ],
   "source": [
    "# initialize\n",
    "\n",
    "i = 1\n",
    "add = 0\n",
    "\n",
    "# loop conditon\n",
    "\n",
    "while i <= 10:\n",
    "    \n",
    "    # check the condition\n",
    "    \n",
    "    add = add+i\n",
    "   \n",
    "    \n",
    "    #update\n",
    "    i = i+1\n",
    "    \n",
    "print(add)"
   ]
  },
  {
   "cell_type": "code",
   "execution_count": null,
   "id": "ce9797d0-9697-46ed-b461-4a3f3701cf68",
   "metadata": {},
   "outputs": [],
   "source": []
  },
  {
   "cell_type": "markdown",
   "id": "756020ab-9803-4093-a48a-9b987e8d35f7",
   "metadata": {
    "tags": []
   },
   "source": [
    "# Range Function\n",
    "\n",
    "### range() function allows users to generate series of numbers\n",
    "### it is iterable as well"
   ]
  },
  {
   "cell_type": "code",
   "execution_count": 20,
   "id": "94f6e12d-fe04-4620-b6d7-84e0b7449227",
   "metadata": {
    "tags": []
   },
   "outputs": [
    {
     "data": {
      "text/plain": [
       "range(0, 5)"
      ]
     },
     "execution_count": 20,
     "metadata": {},
     "output_type": "execute_result"
    }
   ],
   "source": [
    "range(5)"
   ]
  },
  {
   "cell_type": "code",
   "execution_count": 21,
   "id": "adc4dda1-6340-4ea1-8ffc-2bda9a069357",
   "metadata": {
    "tags": []
   },
   "outputs": [
    {
     "data": {
      "text/plain": [
       "[1, 2, 3, 4, 5, 6, 7, 8, 9]"
      ]
     },
     "execution_count": 21,
     "metadata": {},
     "output_type": "execute_result"
    }
   ],
   "source": [
    "list(range(1,10))\n",
    "# default it choose start as 1, end 10 and jump 1"
   ]
  },
  {
   "cell_type": "code",
   "execution_count": 23,
   "id": "32272163-484d-4be6-9cbe-0a98d12afe44",
   "metadata": {
    "tags": []
   },
   "outputs": [
    {
     "data": {
      "text/plain": [
       "[1, 3, 5, 7, 9]"
      ]
     },
     "execution_count": 23,
     "metadata": {},
     "output_type": "execute_result"
    }
   ],
   "source": [
    "list(range(1, 10, 2))"
   ]
  },
  {
   "cell_type": "code",
   "execution_count": 25,
   "id": "911dd8a0-a36a-4482-92b7-d8ce88eb8ca4",
   "metadata": {
    "tags": []
   },
   "outputs": [
    {
     "data": {
      "text/plain": [
       "[]"
      ]
     },
     "execution_count": 25,
     "metadata": {},
     "output_type": "execute_result"
    }
   ],
   "source": [
    "list(range(10,1))"
   ]
  },
  {
   "cell_type": "code",
   "execution_count": 27,
   "id": "683b3bce-56a9-4f59-a390-ae09ca713e45",
   "metadata": {
    "tags": []
   },
   "outputs": [
    {
     "data": {
      "text/plain": [
       "[10, 9, 8, 7, 6, 5, 4, 3, 2]"
      ]
     },
     "execution_count": 27,
     "metadata": {},
     "output_type": "execute_result"
    }
   ],
   "source": [
    "list(range(10,1,-1))"
   ]
  },
  {
   "cell_type": "code",
   "execution_count": 29,
   "id": "9c9d6ff3-46a4-470b-9099-d65911850607",
   "metadata": {
    "tags": []
   },
   "outputs": [
    {
     "data": {
      "text/plain": [
       "[10, 8, 6, 4]"
      ]
     },
     "execution_count": 29,
     "metadata": {},
     "output_type": "execute_result"
    }
   ],
   "source": [
    "list(range(10, 2,-2))"
   ]
  },
  {
   "cell_type": "code",
   "execution_count": 34,
   "id": "a63505a7-7ab1-4771-8d17-d7b880f1ecba",
   "metadata": {
    "tags": []
   },
   "outputs": [
    {
     "data": {
      "text/plain": [
       "[-1, 0, 1, 2, 3, 4, 5, 6, 7, 8, 9]"
      ]
     },
     "execution_count": 34,
     "metadata": {},
     "output_type": "execute_result"
    }
   ],
   "source": [
    "list(range(-1, 10))"
   ]
  },
  {
   "cell_type": "code",
   "execution_count": null,
   "id": "a6c5137c-a879-4cbd-a015-9b34734f780b",
   "metadata": {},
   "outputs": [],
   "source": []
  },
  {
   "cell_type": "code",
   "execution_count": null,
   "id": "7b3d7f96-1a23-40fe-8f14-34cfebbf585f",
   "metadata": {},
   "outputs": [],
   "source": []
  },
  {
   "cell_type": "markdown",
   "id": "07264c6f-88af-4072-af0d-c73b04e36623",
   "metadata": {},
   "source": [
    "# For Loop\n",
    "### for loop requires iterator and iterable for iteration. no need of condition for exiting the loop "
   ]
  },
  {
   "cell_type": "code",
   "execution_count": 37,
   "id": "1de1902a-121c-4b4f-a9d8-660d24f5a3e8",
   "metadata": {
    "tags": []
   },
   "outputs": [
    {
     "name": "stdout",
     "output_type": "stream",
     "text": [
      "1 2 3 4 5 6 7 8 9 10 "
     ]
    }
   ],
   "source": [
    "# i: iterator\n",
    "# range: iterable\n",
    "\n",
    "for i in range(1,11):\n",
    "    print(i, end= ' ')"
   ]
  },
  {
   "cell_type": "markdown",
   "id": "bed67831-1a8d-4cb5-a72d-66fb114f8558",
   "metadata": {},
   "source": [
    "# Print multiplication table of 5"
   ]
  },
  {
   "cell_type": "code",
   "execution_count": 43,
   "id": "c84ec5ca-9761-4e61-84f3-4b47b71a89c4",
   "metadata": {
    "tags": []
   },
   "outputs": [
    {
     "name": "stdin",
     "output_type": "stream",
     "text": [
      " 2\n"
     ]
    },
    {
     "name": "stdout",
     "output_type": "stream",
     "text": [
      "2 4 6 8 10 12 14 16 18 20 "
     ]
    }
   ],
   "source": [
    "n = int(input())\n",
    "\n",
    "for i in range(1,11):\n",
    "    print (i * n, end=' ')\n"
   ]
  },
  {
   "cell_type": "code",
   "execution_count": null,
   "id": "53766870-5d6d-41a9-85da-293cbd520b6c",
   "metadata": {},
   "outputs": [],
   "source": []
  },
  {
   "cell_type": "markdown",
   "id": "74685cf8-9e0c-405c-9a84-04dd755873fd",
   "metadata": {},
   "source": [
    "# Pattern"
   ]
  },
  {
   "cell_type": "code",
   "execution_count": 46,
   "id": "98f4dd5e-91dd-4b2e-a50a-fde2a28e1c1b",
   "metadata": {
    "tags": []
   },
   "outputs": [
    {
     "name": "stdout",
     "output_type": "stream",
     "text": [
      "# # # # \n",
      "# # # # \n",
      "# # # # \n"
     ]
    }
   ],
   "source": [
    "for i in range(4):\n",
    "    print('#', end= ' ')\n",
    "print()  #gives new line\n",
    "\n",
    "for i in range(4):\n",
    "    print('#', end= ' ')\n",
    "print() \n",
    "for i in range(4):\n",
    "    print('#', end= ' ')\n",
    "print() "
   ]
  },
  {
   "cell_type": "code",
   "execution_count": 50,
   "id": "45ea06b8-6495-436d-901a-fdc69199c5c0",
   "metadata": {
    "tags": []
   },
   "outputs": [
    {
     "name": "stdout",
     "output_type": "stream",
     "text": [
      "# # # # \n",
      "# # # # \n",
      "# # # # \n",
      "# # # # \n"
     ]
    }
   ],
   "source": [
    "for i in range(4):\n",
    "    for j in range(4):\n",
    "        print('#', end= ' ')\n",
    "    print() \n",
    "    \n",
    "# outer loop reps rows \n",
    "# inner loop reps column"
   ]
  },
  {
   "cell_type": "code",
   "execution_count": null,
   "id": "5dd75302-536d-43dc-a213-f52b5b16f76b",
   "metadata": {},
   "outputs": [],
   "source": []
  },
  {
   "cell_type": "markdown",
   "id": "c98fb9cd-a1fd-4dbc-acff-37bc2b7b5902",
   "metadata": {},
   "source": [
    "# Pattern 2"
   ]
  },
  {
   "cell_type": "code",
   "execution_count": 54,
   "id": "da383b1c-6507-4314-9c55-ae9e69938aa3",
   "metadata": {
    "tags": []
   },
   "outputs": [
    {
     "name": "stdin",
     "output_type": "stream",
     "text": [
      " 3\n"
     ]
    },
    {
     "name": "stdout",
     "output_type": "stream",
     "text": [
      "# \n",
      "# # \n",
      "# # # \n"
     ]
    }
   ],
   "source": [
    "n= int(input())\n",
    "\n",
    "# run for rows\n",
    "\n",
    "for i in range (1, n+1):\n",
    "    for j in  range(i):\n",
    "        print(\"#\", end= ' ')\n",
    "        \n",
    "        # after printing row go to next row\n",
    "    print()\n",
    "        \n",
    "        "
   ]
  },
  {
   "cell_type": "code",
   "execution_count": null,
   "id": "391842b9-e57c-422a-b18b-9863977b098b",
   "metadata": {},
   "outputs": [],
   "source": []
  },
  {
   "cell_type": "markdown",
   "id": "bb78bb4a-96c1-456d-858d-1cb0e70e696f",
   "metadata": {},
   "source": [
    "# Break, Continue and Pass\n",
    "### * These statement used to alter the flow of a program\n",
    "### * Break: Breaks the flow of program once this condition is hit\n",
    "### * Continue: It skips that particular iteration \n",
    "### * Pass: To avoid the Syntax error"
   ]
  },
  {
   "cell_type": "code",
   "execution_count": 3,
   "id": "cbc13e35-f7d6-4eac-ab01-fb0240bc9101",
   "metadata": {},
   "outputs": [],
   "source": [
    "# Pass\n",
    "\n",
    "\n",
    "for i in range(1,10):\n",
    "    pass\n",
    "# it avoid error and no output\n",
    "    "
   ]
  },
  {
   "cell_type": "code",
   "execution_count": 4,
   "id": "808e92fd-a61f-4d0a-a143-3922443529bd",
   "metadata": {
    "tags": []
   },
   "outputs": [],
   "source": []
  },
  {
   "cell_type": "code",
   "execution_count": 5,
   "id": "fa320d5c-85fd-459c-adf1-d926da1bade2",
   "metadata": {
    "tags": []
   },
   "outputs": [],
   "source": [
    "# Continue"
   ]
  },
  {
   "cell_type": "code",
   "execution_count": 6,
   "id": "6d38da3e-49da-4554-8ac0-2ce5db0c2c84",
   "metadata": {
    "tags": []
   },
   "outputs": [
    {
     "name": "stdout",
     "output_type": "stream",
     "text": [
      "1\n",
      "2\n",
      "3\n",
      "4\n",
      "5\n",
      "7\n",
      "8\n",
      "9\n"
     ]
    }
   ],
   "source": [
    "for i in range(1, 10):\n",
    "    if i==6:\n",
    "        continue # cut number 6 and continue\n",
    "    print(i)"
   ]
  },
  {
   "cell_type": "code",
   "execution_count": null,
   "id": "6947320a-57f0-43d5-8157-c51b2de06e00",
   "metadata": {},
   "outputs": [],
   "source": []
  },
  {
   "cell_type": "code",
   "execution_count": null,
   "id": "3f509005-4ddd-4b23-bd04-a2fafdcdd184",
   "metadata": {
    "tags": []
   },
   "outputs": [],
   "source": [
    "#  Break"
   ]
  },
  {
   "cell_type": "code",
   "execution_count": null,
   "id": "0903531f-074a-4e3d-b893-da44a7300664",
   "metadata": {
    "tags": []
   },
   "outputs": [],
   "source": [
    "for  i in range(1, 10):\n",
    "    if i==5:\n",
    "        break\n",
    "    print (i)"
   ]
  },
  {
   "cell_type": "code",
   "execution_count": null,
   "id": "bae04aac-f8f4-448b-80f8-921fab391524",
   "metadata": {},
   "outputs": [],
   "source": [
    "i=1\n",
    "\n",
    "while i<=6:\n",
    "    if i==3:\n",
    "        break\n",
    "        print(i)\n",
    "    i +=1"
   ]
  },
  {
   "cell_type": "code",
   "execution_count": null,
   "id": "5bec1b5c-f103-43fd-b97d-f7ff653622f9",
   "metadata": {
    "tags": []
   },
   "outputs": [],
   "source": [
    "for  i in range(1, 10):\n",
    "    if i==5:\n",
    "        break\n",
    "    print (i)"
   ]
  },
  {
   "cell_type": "code",
   "execution_count": null,
   "id": "c21331d9-a99b-4c48-a3ff-a183451116df",
   "metadata": {
    "tags": []
   },
   "outputs": [],
   "source": [
    "i=0\n",
    "\n",
    "while i<=6:\n",
    "    if i==3:\n",
    "        break\n",
    "    print(i)\n",
    "    i = i+1"
   ]
  },
  {
   "cell_type": "code",
   "execution_count": null,
   "id": "714b33fd-08e4-453f-a8e9-9c677a3f198c",
   "metadata": {},
   "outputs": [],
   "source": []
  }
 ],
 "metadata": {
  "kernelspec": {
   "display_name": "Python 3 (ipykernel)",
   "language": "python",
   "name": "python3"
  },
  "language_info": {
   "codemirror_mode": {
    "name": "ipython",
    "version": 3
   },
   "file_extension": ".py",
   "mimetype": "text/x-python",
   "name": "python",
   "nbconvert_exporter": "python",
   "pygments_lexer": "ipython3",
   "version": "3.11.5"
  }
 },
 "nbformat": 4,
 "nbformat_minor": 5
}

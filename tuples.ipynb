{
 "cells": [
  {
   "cell_type": "markdown",
   "id": "deaccab4-7671-4d40-ad0e-030aaa3c69f6",
   "metadata": {},
   "source": [
    "# Tuples\n",
    "### like lists, tuples are also ordered collection of data\n",
    "### unchangeable ( once created no change in future)\n",
    "### can be hetrogeneous\n",
    "### iterable"
   ]
  },
  {
   "cell_type": "code",
   "execution_count": 1,
   "id": "0b582a65-d6b1-4dbb-ab6d-295b71b47083",
   "metadata": {},
   "outputs": [
    {
     "data": {
      "text/plain": [
       "('pawan', 'triptleH', 'rock', 'stonecold')"
      ]
     },
     "execution_count": 1,
     "metadata": {},
     "output_type": "execute_result"
    }
   ],
   "source": [
    "l = (\"pawan\", \"triptleH\", \"rock\", \"stonecold\")\n",
    "l"
   ]
  },
  {
   "cell_type": "code",
   "execution_count": 2,
   "id": "c168b314-c113-46dd-8a43-08a5007b119f",
   "metadata": {
    "tags": []
   },
   "outputs": [
    {
     "data": {
      "text/plain": [
       "tuple"
      ]
     },
     "execution_count": 2,
     "metadata": {},
     "output_type": "execute_result"
    }
   ],
   "source": [
    "type(l)"
   ]
  },
  {
   "cell_type": "code",
   "execution_count": 3,
   "id": "99f618af-c987-4899-a329-2ab98f60646f",
   "metadata": {
    "tags": []
   },
   "outputs": [
    {
     "data": {
      "text/plain": [
       "'pawan'"
      ]
     },
     "execution_count": 3,
     "metadata": {},
     "output_type": "execute_result"
    }
   ],
   "source": [
    "l[0] #suport indexing "
   ]
  },
  {
   "cell_type": "code",
   "execution_count": 5,
   "id": "9bd929db-c2c1-44f6-915a-04ae252d1c0b",
   "metadata": {
    "tags": []
   },
   "outputs": [
    {
     "ename": "TypeError",
     "evalue": "'tuple' object does not support item assignment",
     "output_type": "error",
     "traceback": [
      "\u001b[0;31m---------------------------------------------------------------------------\u001b[0m",
      "\u001b[0;31mTypeError\u001b[0m                                 Traceback (most recent call last)",
      "Cell \u001b[0;32mIn[5], line 1\u001b[0m\n\u001b[0;32m----> 1\u001b[0m l[\u001b[38;5;241m1\u001b[39m]\u001b[38;5;241m=\u001b[39m \u001b[38;5;124m\"\u001b[39m\u001b[38;5;124msun\u001b[39m\u001b[38;5;124m\"\u001b[39m\n\u001b[1;32m      2\u001b[0m l\n",
      "\u001b[0;31mTypeError\u001b[0m: 'tuple' object does not support item assignment"
     ]
    }
   ],
   "source": [
    "l[1]= \"sun\"\n",
    "l"
   ]
  },
  {
   "cell_type": "code",
   "execution_count": 6,
   "id": "ed9b7f13-e780-465d-9dbe-d510e1923c3e",
   "metadata": {
    "tags": []
   },
   "outputs": [
    {
     "data": {
      "text/plain": [
       "'stonecold'"
      ]
     },
     "execution_count": 6,
     "metadata": {},
     "output_type": "execute_result"
    }
   ],
   "source": [
    "l[-1]"
   ]
  },
  {
   "cell_type": "code",
   "execution_count": 7,
   "id": "1ef71238-d7f1-4083-b1f6-b0e5b7d2d268",
   "metadata": {
    "tags": []
   },
   "outputs": [
    {
     "data": {
      "text/plain": [
       "('triptleH', 'rock')"
      ]
     },
     "execution_count": 7,
     "metadata": {},
     "output_type": "execute_result"
    }
   ],
   "source": [
    "# slicing\n",
    "l[1:3]"
   ]
  },
  {
   "cell_type": "code",
   "execution_count": 8,
   "id": "55d62ab0-afd2-473f-b006-63e7158294ab",
   "metadata": {
    "tags": []
   },
   "outputs": [
    {
     "data": {
      "text/plain": [
       "('pawan', 2, 1.344, True)"
      ]
     },
     "execution_count": 8,
     "metadata": {},
     "output_type": "execute_result"
    }
   ],
   "source": [
    "k= (\"pawan\",2, 1.344, True)\n",
    "k"
   ]
  },
  {
   "cell_type": "code",
   "execution_count": 9,
   "id": "ac3e1a9c-fd66-4a63-afa0-046fd4c0ab19",
   "metadata": {
    "tags": []
   },
   "outputs": [
    {
     "data": {
      "text/plain": [
       "tuple"
      ]
     },
     "execution_count": 9,
     "metadata": {},
     "output_type": "execute_result"
    }
   ],
   "source": [
    "type(k)"
   ]
  },
  {
   "cell_type": "code",
   "execution_count": 10,
   "id": "ba975b4a-4cca-433e-bf17-5bce056055db",
   "metadata": {
    "tags": []
   },
   "outputs": [
    {
     "data": {
      "text/plain": [
       "int"
      ]
     },
     "execution_count": 10,
     "metadata": {},
     "output_type": "execute_result"
    }
   ],
   "source": [
    "type(k[1])"
   ]
  },
  {
   "cell_type": "code",
   "execution_count": null,
   "id": "ed58373f-a3cd-4a08-ac38-0cf270d89ba7",
   "metadata": {},
   "outputs": [],
   "source": []
  },
  {
   "cell_type": "markdown",
   "id": "632fd6ce-c69d-47be-80e7-06a091424701",
   "metadata": {
    "tags": []
   },
   "source": [
    "# how to creat a tuple?"
   ]
  },
  {
   "cell_type": "code",
   "execution_count": 13,
   "id": "1dfa05b6-02b1-4aba-a565-cda00043d0a3",
   "metadata": {
    "tags": []
   },
   "outputs": [
    {
     "data": {
      "text/plain": [
       "tuple"
      ]
     },
     "execution_count": 13,
     "metadata": {},
     "output_type": "execute_result"
    }
   ],
   "source": [
    "t= ()\n",
    "type(t)"
   ]
  },
  {
   "cell_type": "code",
   "execution_count": 14,
   "id": "b988f68b-6756-43b6-a3c3-ffb792e6b9fa",
   "metadata": {
    "tags": []
   },
   "outputs": [
    {
     "name": "stdout",
     "output_type": "stream",
     "text": [
      "()\n"
     ]
    }
   ],
   "source": [
    "print(t)"
   ]
  },
  {
   "cell_type": "code",
   "execution_count": 16,
   "id": "a79ce75e-57c1-4183-8916-555ad3d7db68",
   "metadata": {
    "tags": []
   },
   "outputs": [
    {
     "data": {
      "text/plain": [
       "tuple"
      ]
     },
     "execution_count": 16,
     "metadata": {},
     "output_type": "execute_result"
    }
   ],
   "source": [
    "t1= tuple()\n",
    "type(t1)"
   ]
  },
  {
   "cell_type": "code",
   "execution_count": 17,
   "id": "82d6e6dd-8bad-40ea-86ce-0cc5cd524e79",
   "metadata": {
    "tags": []
   },
   "outputs": [
    {
     "name": "stdout",
     "output_type": "stream",
     "text": [
      "() ()\n"
     ]
    }
   ],
   "source": [
    "print(t,t1)"
   ]
  },
  {
   "cell_type": "markdown",
   "id": "bde4673e-fb60-4d22-bacd-bf2f32a2d2ab",
   "metadata": {},
   "source": [
    "# non empty tuple"
   ]
  },
  {
   "cell_type": "code",
   "execution_count": 20,
   "id": "cbf79353-03dc-4e1e-b104-3a55b05aa49a",
   "metadata": {
    "tags": []
   },
   "outputs": [
    {
     "data": {
      "text/plain": [
       "int"
      ]
     },
     "execution_count": 20,
     "metadata": {},
     "output_type": "execute_result"
    }
   ],
   "source": [
    "t3 =(2)\n",
    "type(t3)"
   ]
  },
  {
   "cell_type": "code",
   "execution_count": 21,
   "id": "99f2ac1c-ba3d-4b42-afa0-8767d93fd27b",
   "metadata": {
    "tags": []
   },
   "outputs": [
    {
     "data": {
      "text/plain": [
       "tuple"
      ]
     },
     "execution_count": 21,
     "metadata": {},
     "output_type": "execute_result"
    }
   ],
   "source": [
    "t3 =(2, )\n",
    "type(t3)"
   ]
  },
  {
   "cell_type": "code",
   "execution_count": 22,
   "id": "f268e390-809b-47b4-99f7-891e045056ed",
   "metadata": {
    "tags": []
   },
   "outputs": [
    {
     "data": {
      "text/plain": [
       "(2,)"
      ]
     },
     "execution_count": 22,
     "metadata": {},
     "output_type": "execute_result"
    }
   ],
   "source": [
    "t3"
   ]
  },
  {
   "cell_type": "code",
   "execution_count": null,
   "id": "ac3bd090-3206-4b03-a0e8-53ccea058206",
   "metadata": {},
   "outputs": [],
   "source": []
  },
  {
   "cell_type": "code",
   "execution_count": 23,
   "id": "b91ab4a4-b81b-4ea7-8e0f-ad53060ceab2",
   "metadata": {
    "tags": []
   },
   "outputs": [
    {
     "data": {
      "text/plain": [
       "('p', 'a', 'w', 'a')"
      ]
     },
     "execution_count": 23,
     "metadata": {},
     "output_type": "execute_result"
    }
   ],
   "source": [
    "t4 = tuple(\"pawa\")\n",
    "t4"
   ]
  },
  {
   "cell_type": "code",
   "execution_count": 24,
   "id": "b06e333a-0af0-4366-8caa-fc6ce06eea2c",
   "metadata": {
    "tags": []
   },
   "outputs": [
    {
     "data": {
      "text/plain": [
       "4"
      ]
     },
     "execution_count": 24,
     "metadata": {},
     "output_type": "execute_result"
    }
   ],
   "source": [
    "len(t4)"
   ]
  },
  {
   "cell_type": "code",
   "execution_count": null,
   "id": "eb596e5b-c991-4880-a0df-34a8ba57b422",
   "metadata": {},
   "outputs": [],
   "source": []
  },
  {
   "cell_type": "code",
   "execution_count": null,
   "id": "48ee5682-a18b-467d-8b3d-60bc8c19a225",
   "metadata": {},
   "outputs": [],
   "source": []
  },
  {
   "cell_type": "code",
   "execution_count": 27,
   "id": "1798e4fe-a720-4f32-b4c6-b9fe976232b3",
   "metadata": {
    "tags": []
   },
   "outputs": [
    {
     "name": "stdout",
     "output_type": "stream",
     "text": [
      "2\n",
      "<class 'tuple'> ()\n"
     ]
    }
   ],
   "source": [
    "t6=([1,3],[4,5])\n",
    "print(len(t6))\n",
    "print(type(t6), t)"
   ]
  },
  {
   "cell_type": "code",
   "execution_count": null,
   "id": "f363e323-b115-4e2f-ba43-3a3798ebaae1",
   "metadata": {},
   "outputs": [],
   "source": []
  },
  {
   "cell_type": "markdown",
   "id": "673e2f7f-be2b-47f6-8dc4-36002ede0d1d",
   "metadata": {},
   "source": [
    "# Mutablity "
   ]
  },
  {
   "cell_type": "code",
   "execution_count": 31,
   "id": "24d23c7f-a735-493e-8ac7-c5a2702126be",
   "metadata": {
    "tags": []
   },
   "outputs": [],
   "source": [
    "t2= (1,2,4,5,6,7)"
   ]
  },
  {
   "cell_type": "code",
   "execution_count": 34,
   "id": "15154b27-4c97-457f-bc4e-5743e48bb26a",
   "metadata": {
    "tags": []
   },
   "outputs": [],
   "source": [
    "#t[3]\n",
    "pass"
   ]
  },
  {
   "cell_type": "code",
   "execution_count": 35,
   "id": "0764d489-9dc2-4667-aadf-188471fb155c",
   "metadata": {
    "tags": []
   },
   "outputs": [],
   "source": [
    "t6=([1,3],[4,5], \"pawa\")"
   ]
  },
  {
   "cell_type": "code",
   "execution_count": 36,
   "id": "c16dcbc4-dea4-4bf4-b6c9-eb83e42b29ca",
   "metadata": {
    "tags": []
   },
   "outputs": [
    {
     "data": {
      "text/plain": [
       "([1, 3], [4, 5], 'pawa')"
      ]
     },
     "execution_count": 36,
     "metadata": {},
     "output_type": "execute_result"
    }
   ],
   "source": [
    "t6"
   ]
  },
  {
   "cell_type": "code",
   "execution_count": 37,
   "id": "9d6c5731-297e-489c-bd56-63fb40355b2b",
   "metadata": {
    "tags": []
   },
   "outputs": [
    {
     "data": {
      "text/plain": [
       "list"
      ]
     },
     "execution_count": 37,
     "metadata": {},
     "output_type": "execute_result"
    }
   ],
   "source": [
    "type(t6[0])\n"
   ]
  },
  {
   "cell_type": "code",
   "execution_count": 38,
   "id": "efe4be0f-8211-42e7-8eb9-dc75099c389b",
   "metadata": {
    "tags": []
   },
   "outputs": [],
   "source": [
    "# we cannot change tuple but we can change list inside the tuple"
   ]
  },
  {
   "cell_type": "code",
   "execution_count": 39,
   "id": "bbed3ae7-3fba-430b-b823-291c53b54dc4",
   "metadata": {
    "tags": []
   },
   "outputs": [
    {
     "data": {
      "text/plain": [
       "[1, 3]"
      ]
     },
     "execution_count": 39,
     "metadata": {},
     "output_type": "execute_result"
    }
   ],
   "source": [
    "t6[0]"
   ]
  },
  {
   "cell_type": "code",
   "execution_count": 41,
   "id": "d0f5540c-d5ec-4bfa-9700-2e8711a82a89",
   "metadata": {
    "tags": []
   },
   "outputs": [],
   "source": [
    "t6[0][0]= 4,4"
   ]
  },
  {
   "cell_type": "code",
   "execution_count": 42,
   "id": "a1a98b2c-ba32-4abe-b214-3e73c79c6a91",
   "metadata": {
    "tags": []
   },
   "outputs": [
    {
     "data": {
      "text/plain": [
       "([(4, 4), 3], [4, 5], 'pawa')"
      ]
     },
     "execution_count": 42,
     "metadata": {},
     "output_type": "execute_result"
    }
   ],
   "source": [
    "t6"
   ]
  },
  {
   "cell_type": "code",
   "execution_count": 43,
   "id": "53179272-0f9b-46bb-a272-963546d82f6c",
   "metadata": {
    "tags": []
   },
   "outputs": [
    {
     "data": {
      "text/plain": [
       "tuple"
      ]
     },
     "execution_count": 43,
     "metadata": {},
     "output_type": "execute_result"
    }
   ],
   "source": [
    "type(t6)"
   ]
  },
  {
   "cell_type": "code",
   "execution_count": null,
   "id": "4c4d29b9-2a69-423c-98d8-b86553922a18",
   "metadata": {},
   "outputs": [],
   "source": []
  },
  {
   "cell_type": "markdown",
   "id": "b2e623ae-89f7-46e3-ad01-dafa729746ee",
   "metadata": {},
   "source": [
    "# unpacking a tuple"
   ]
  },
  {
   "cell_type": "code",
   "execution_count": 44,
   "id": "50b92256-e289-47ca-b641-3cf5990cbf0a",
   "metadata": {
    "tags": []
   },
   "outputs": [
    {
     "name": "stdout",
     "output_type": "stream",
     "text": [
      "2 4 9 1\n"
     ]
    }
   ],
   "source": [
    "a=2\n",
    "b=4\n",
    "c=9\n",
    "d=1\n",
    "print(a,b,c,d)"
   ]
  },
  {
   "cell_type": "code",
   "execution_count": 45,
   "id": "2539c4bb-3a76-43fe-80eb-3b5438555b78",
   "metadata": {
    "tags": []
   },
   "outputs": [
    {
     "name": "stdout",
     "output_type": "stream",
     "text": [
      "2 4\n"
     ]
    }
   ],
   "source": [
    "a,b=2,4\n",
    "print(a,b)"
   ]
  },
  {
   "cell_type": "code",
   "execution_count": 46,
   "id": "b2204076-6c18-4107-b71b-1cd9b55e5079",
   "metadata": {
    "tags": []
   },
   "outputs": [],
   "source": [
    "t= (1,2,3,4,5)"
   ]
  },
  {
   "cell_type": "code",
   "execution_count": 47,
   "id": "8813428a-1fcd-4363-b3fa-f8a931298dfe",
   "metadata": {
    "tags": []
   },
   "outputs": [
    {
     "name": "stdout",
     "output_type": "stream",
     "text": [
      "1 2 3 5 4\n"
     ]
    }
   ],
   "source": [
    "a,b,c,d,e=t\n",
    "print(a,b,c,e,d)"
   ]
  },
  {
   "cell_type": "code",
   "execution_count": 48,
   "id": "faa7faa5-f035-4cfb-960a-9edabd6962a9",
   "metadata": {
    "tags": []
   },
   "outputs": [],
   "source": [
    "# this process is known as unpacking"
   ]
  },
  {
   "cell_type": "code",
   "execution_count": null,
   "id": "a28ce879-9fd1-444e-ac39-b8719873571c",
   "metadata": {},
   "outputs": [],
   "source": []
  },
  {
   "cell_type": "markdown",
   "id": "b9b83be8-ff48-4f0b-920f-03202f81c3c7",
   "metadata": {
    "tags": []
   },
   "source": [
    "# tuple operarion"
   ]
  },
  {
   "cell_type": "code",
   "execution_count": 57,
   "id": "f72d82a2-196d-4c02-a2ea-dc9dbc1abb1d",
   "metadata": {
    "tags": []
   },
   "outputs": [],
   "source": [
    "#count\n",
    "\n",
    "t= (1,2,3,4,5,3)"
   ]
  },
  {
   "cell_type": "code",
   "execution_count": 51,
   "id": "4bc9864e-e916-4089-b720-7f88b3c93678",
   "metadata": {
    "tags": []
   },
   "outputs": [
    {
     "data": {
      "text/plain": [
       "\u001b[0;31mSignature:\u001b[0m \u001b[0mt\u001b[0m\u001b[0;34m.\u001b[0m\u001b[0mcount\u001b[0m\u001b[0;34m(\u001b[0m\u001b[0mvalue\u001b[0m\u001b[0;34m,\u001b[0m \u001b[0;34m/\u001b[0m\u001b[0;34m)\u001b[0m\u001b[0;34m\u001b[0m\u001b[0;34m\u001b[0m\u001b[0m\n",
       "\u001b[0;31mDocstring:\u001b[0m Return number of occurrences of value.\n",
       "\u001b[0;31mType:\u001b[0m      builtin_function_or_method"
      ]
     },
     "metadata": {},
     "output_type": "display_data"
    }
   ],
   "source": [
    "t.count?"
   ]
  },
  {
   "cell_type": "code",
   "execution_count": 58,
   "id": "466b8339-539b-4553-8214-78771fc95eba",
   "metadata": {
    "tags": []
   },
   "outputs": [
    {
     "data": {
      "text/plain": [
       "2"
      ]
     },
     "execution_count": 58,
     "metadata": {},
     "output_type": "execute_result"
    }
   ],
   "source": [
    "t.count(3)"
   ]
  },
  {
   "cell_type": "code",
   "execution_count": 59,
   "id": "a3922d56-f0eb-4825-83e4-3150cf11ef0e",
   "metadata": {
    "tags": []
   },
   "outputs": [
    {
     "data": {
      "text/plain": [
       "0"
      ]
     },
     "execution_count": 59,
     "metadata": {},
     "output_type": "execute_result"
    }
   ],
   "source": [
    "t.count(8)"
   ]
  },
  {
   "cell_type": "code",
   "execution_count": 60,
   "id": "f53731c5-f7d2-4338-8e03-96bcd83d5740",
   "metadata": {
    "tags": []
   },
   "outputs": [],
   "source": [
    "\n",
    "# index"
   ]
  },
  {
   "cell_type": "code",
   "execution_count": 61,
   "id": "8026e4df-ff80-4d50-88a8-d2e8668b1bba",
   "metadata": {
    "tags": []
   },
   "outputs": [
    {
     "data": {
      "text/plain": [
       "(1, 2, 3, 4, 5, 3)"
      ]
     },
     "execution_count": 61,
     "metadata": {},
     "output_type": "execute_result"
    }
   ],
   "source": [
    "t"
   ]
  },
  {
   "cell_type": "code",
   "execution_count": 62,
   "id": "cb6ca0f4-6f0c-4cd3-9c9e-169bc777413c",
   "metadata": {
    "tags": []
   },
   "outputs": [
    {
     "data": {
      "text/plain": [
       "\u001b[0;31mSignature:\u001b[0m \u001b[0mt\u001b[0m\u001b[0;34m.\u001b[0m\u001b[0mindex\u001b[0m\u001b[0;34m(\u001b[0m\u001b[0mvalue\u001b[0m\u001b[0;34m,\u001b[0m \u001b[0mstart\u001b[0m\u001b[0;34m=\u001b[0m\u001b[0;36m0\u001b[0m\u001b[0;34m,\u001b[0m \u001b[0mstop\u001b[0m\u001b[0;34m=\u001b[0m\u001b[0;36m9223372036854775807\u001b[0m\u001b[0;34m,\u001b[0m \u001b[0;34m/\u001b[0m\u001b[0;34m)\u001b[0m\u001b[0;34m\u001b[0m\u001b[0;34m\u001b[0m\u001b[0m\n",
       "\u001b[0;31mDocstring:\u001b[0m\n",
       "Return first index of value.\n",
       "\n",
       "Raises ValueError if the value is not present.\n",
       "\u001b[0;31mType:\u001b[0m      builtin_function_or_method"
      ]
     },
     "metadata": {},
     "output_type": "display_data"
    }
   ],
   "source": [
    "t.index?"
   ]
  },
  {
   "cell_type": "code",
   "execution_count": 64,
   "id": "d8f5d8fc-ab04-4620-abab-a6eb8d2c39e8",
   "metadata": {
    "tags": []
   },
   "outputs": [
    {
     "data": {
      "text/plain": [
       "1"
      ]
     },
     "execution_count": 64,
     "metadata": {},
     "output_type": "execute_result"
    }
   ],
   "source": [
    "t.index(2)"
   ]
  },
  {
   "cell_type": "code",
   "execution_count": null,
   "id": "5b0092ca-c494-468e-96ce-c2ebd3f4e8aa",
   "metadata": {},
   "outputs": [],
   "source": []
  },
  {
   "cell_type": "code",
   "execution_count": 65,
   "id": "3dbce5d1-a299-477d-bfec-9c6a78192a7b",
   "metadata": {
    "tags": []
   },
   "outputs": [],
   "source": [
    "# iteration"
   ]
  },
  {
   "cell_type": "code",
   "execution_count": 66,
   "id": "e8a00834-0f6c-4c7c-8bda-f4cb0cc605bb",
   "metadata": {
    "tags": []
   },
   "outputs": [
    {
     "data": {
      "text/plain": [
       "(1, 2, 3, 4, 5, 3)"
      ]
     },
     "execution_count": 66,
     "metadata": {},
     "output_type": "execute_result"
    }
   ],
   "source": [
    "t"
   ]
  },
  {
   "cell_type": "code",
   "execution_count": 67,
   "id": "ef2f9628-f454-437b-98dc-d88426579184",
   "metadata": {
    "tags": []
   },
   "outputs": [
    {
     "data": {
      "text/plain": [
       "6"
      ]
     },
     "execution_count": 67,
     "metadata": {},
     "output_type": "execute_result"
    }
   ],
   "source": [
    "len(t)"
   ]
  },
  {
   "cell_type": "code",
   "execution_count": 70,
   "id": "731a34cc-f83e-4405-807b-588e4e6b0af9",
   "metadata": {
    "tags": []
   },
   "outputs": [
    {
     "name": "stdout",
     "output_type": "stream",
     "text": [
      "2 4 6 8 10 6 "
     ]
    }
   ],
   "source": [
    "for i in t:\n",
    "    print(i*2, end=\" \")"
   ]
  },
  {
   "cell_type": "code",
   "execution_count": null,
   "id": "85022374-6b56-4efd-bcf6-3420b0346fe5",
   "metadata": {},
   "outputs": [],
   "source": []
  },
  {
   "cell_type": "code",
   "execution_count": 73,
   "id": "5395101c-404e-400a-bc67-9e04dc0ef703",
   "metadata": {
    "tags": []
   },
   "outputs": [],
   "source": [
    "# concatenation by (+ and *)"
   ]
  },
  {
   "cell_type": "code",
   "execution_count": 74,
   "id": "6c920634-1b64-47ee-a489-62d32d444d46",
   "metadata": {
    "tags": []
   },
   "outputs": [
    {
     "data": {
      "text/plain": [
       "(1, 2, 3, 4, 5, 3)"
      ]
     },
     "execution_count": 74,
     "metadata": {},
     "output_type": "execute_result"
    }
   ],
   "source": [
    "t"
   ]
  },
  {
   "cell_type": "code",
   "execution_count": 75,
   "id": "86d72d26-9434-43ac-8ac6-13d57cdf9b66",
   "metadata": {
    "tags": []
   },
   "outputs": [],
   "source": [
    "t1 =(9,8)"
   ]
  },
  {
   "cell_type": "code",
   "execution_count": 77,
   "id": "acd48e80-7f51-4de1-8f2e-9dfb37315191",
   "metadata": {
    "tags": []
   },
   "outputs": [
    {
     "data": {
      "text/plain": [
       "(9, 8, 1, 2, 3, 4, 5, 3)"
      ]
     },
     "execution_count": 77,
     "metadata": {},
     "output_type": "execute_result"
    }
   ],
   "source": [
    "t2 = t1 +t\n",
    "t2"
   ]
  },
  {
   "cell_type": "code",
   "execution_count": 78,
   "id": "aa0067c9-8a0a-4b1e-b2e7-d84746661059",
   "metadata": {
    "tags": []
   },
   "outputs": [
    {
     "data": {
      "text/plain": [
       "(9, 8, 1, 2, 3, 4, 5, 3, 9, 8, 1, 2, 3, 4, 5, 3)"
      ]
     },
     "execution_count": 78,
     "metadata": {},
     "output_type": "execute_result"
    }
   ],
   "source": [
    "t2 * 2"
   ]
  },
  {
   "cell_type": "code",
   "execution_count": null,
   "id": "1ef3f7d8-a213-40ce-a2a3-27b402c240a0",
   "metadata": {},
   "outputs": [],
   "source": []
  },
  {
   "cell_type": "code",
   "execution_count": 79,
   "id": "4b5e00f4-9cc7-4273-890d-512ffe073ab5",
   "metadata": {
    "tags": []
   },
   "outputs": [],
   "source": [
    "# tuple to list and list to tuple"
   ]
  },
  {
   "cell_type": "code",
   "execution_count": 80,
   "id": "2529097f-b76b-4070-874d-9c73793707df",
   "metadata": {
    "tags": []
   },
   "outputs": [],
   "source": [
    "t = (1,2,3,4)"
   ]
  },
  {
   "cell_type": "code",
   "execution_count": 81,
   "id": "604a5f8a-a6a3-4856-831e-ea9d1c98129d",
   "metadata": {
    "tags": []
   },
   "outputs": [],
   "source": [
    "lst = list(t)"
   ]
  },
  {
   "cell_type": "code",
   "execution_count": 82,
   "id": "1f83558e-b667-42a5-af0f-379130729244",
   "metadata": {
    "tags": []
   },
   "outputs": [
    {
     "data": {
      "text/plain": [
       "list"
      ]
     },
     "execution_count": 82,
     "metadata": {},
     "output_type": "execute_result"
    }
   ],
   "source": [
    "type(lst)"
   ]
  },
  {
   "cell_type": "code",
   "execution_count": 84,
   "id": "ffc55424-7ad9-4992-9295-84b76238059b",
   "metadata": {
    "tags": []
   },
   "outputs": [],
   "source": [
    "t = (tuple(lst))"
   ]
  },
  {
   "cell_type": "code",
   "execution_count": 85,
   "id": "e6275585-8ab4-4e86-b9e2-aa040ff9cf85",
   "metadata": {
    "tags": []
   },
   "outputs": [
    {
     "data": {
      "text/plain": [
       "tuple"
      ]
     },
     "execution_count": 85,
     "metadata": {},
     "output_type": "execute_result"
    }
   ],
   "source": [
    "type(t)"
   ]
  },
  {
   "cell_type": "code",
   "execution_count": null,
   "id": "42e5b9bb-ba7c-4245-944c-26f0ff80b319",
   "metadata": {},
   "outputs": [],
   "source": []
  }
 ],
 "metadata": {
  "kernelspec": {
   "display_name": "Python 3 (ipykernel)",
   "language": "python",
   "name": "python3"
  },
  "language_info": {
   "codemirror_mode": {
    "name": "ipython",
    "version": 3
   },
   "file_extension": ".py",
   "mimetype": "text/x-python",
   "name": "python",
   "nbconvert_exporter": "python",
   "pygments_lexer": "ipython3",
   "version": "3.11.5"
  }
 },
 "nbformat": 4,
 "nbformat_minor": 5
}

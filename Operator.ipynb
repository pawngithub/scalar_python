{
 "cells": [
  {
   "cell_type": "markdown",
   "id": "986f1a1e-6402-46b8-b95b-033a9c61e7ce",
   "metadata": {},
   "source": [
    "### Operator"
   ]
  },
  {
   "cell_type": "code",
   "execution_count": 1,
   "id": "c000537f-a96d-4b45-b9b9-ed7b4aa33420",
   "metadata": {
    "tags": []
   },
   "outputs": [],
   "source": [
    "a= 8\n",
    "b= 4"
   ]
  },
  {
   "cell_type": "code",
   "execution_count": 2,
   "id": "c72b95c3-0631-4d75-993c-6494c42e5b23",
   "metadata": {
    "tags": []
   },
   "outputs": [
    {
     "data": {
      "text/plain": [
       "12"
      ]
     },
     "execution_count": 2,
     "metadata": {},
     "output_type": "execute_result"
    }
   ],
   "source": [
    "a+b"
   ]
  },
  {
   "cell_type": "code",
   "execution_count": 3,
   "id": "3907f7b3-37f2-4c3b-bd80-a34b72681faf",
   "metadata": {
    "tags": []
   },
   "outputs": [
    {
     "data": {
      "text/plain": [
       "4"
      ]
     },
     "execution_count": 3,
     "metadata": {},
     "output_type": "execute_result"
    }
   ],
   "source": [
    "a-b"
   ]
  },
  {
   "cell_type": "code",
   "execution_count": null,
   "id": "ac1c45d3-b7cc-49e4-8c1f-b287c9d4b10e",
   "metadata": {},
   "outputs": [],
   "source": [
    "# devison operator will always yield float value "
   ]
  },
  {
   "cell_type": "code",
   "execution_count": 5,
   "id": "a7a35daf-1acb-4418-8386-2555763fe323",
   "metadata": {
    "tags": []
   },
   "outputs": [
    {
     "data": {
      "text/plain": [
       "2.0"
      ]
     },
     "execution_count": 5,
     "metadata": {},
     "output_type": "execute_result"
    }
   ],
   "source": [
    "a/b"
   ]
  },
  {
   "cell_type": "code",
   "execution_count": null,
   "id": "e504a927-c171-4116-a0b5-3fbacaf7b230",
   "metadata": {},
   "outputs": [],
   "source": [
    "#"
   ]
  },
  {
   "cell_type": "code",
   "execution_count": 6,
   "id": "60e5c5af-0175-41a7-b6be-be82743d6020",
   "metadata": {
    "tags": []
   },
   "outputs": [
    {
     "data": {
      "text/plain": [
       "2"
      ]
     },
     "execution_count": 6,
     "metadata": {},
     "output_type": "execute_result"
    }
   ],
   "source": [
    "a//b"
   ]
  },
  {
   "cell_type": "code",
   "execution_count": null,
   "id": "dac77760-4de9-4090-a5d9-0e4ae3db70b3",
   "metadata": {},
   "outputs": [],
   "source": [
    "# "
   ]
  },
  {
   "cell_type": "code",
   "execution_count": 7,
   "id": "1c9713ef-7286-4dc9-9ff7-da8d8ed4185b",
   "metadata": {
    "tags": []
   },
   "outputs": [
    {
     "data": {
      "text/plain": [
       "4096"
      ]
     },
     "execution_count": 7,
     "metadata": {},
     "output_type": "execute_result"
    }
   ],
   "source": [
    "a**b #"
   ]
  },
  {
   "cell_type": "code",
   "execution_count": 8,
   "id": "9c9cbe92-f68a-4617-aed1-8ceebbb0b385",
   "metadata": {
    "tags": []
   },
   "outputs": [
    {
     "data": {
      "text/plain": [
       "32"
      ]
     },
     "execution_count": 8,
     "metadata": {},
     "output_type": "execute_result"
    }
   ],
   "source": [
    "a*b"
   ]
  },
  {
   "cell_type": "code",
   "execution_count": 9,
   "id": "8049a972-9030-492f-986e-ab7a103cb895",
   "metadata": {
    "tags": []
   },
   "outputs": [],
   "source": [
    "first=\"pawan\"\n",
    "last=\"kumar\""
   ]
  },
  {
   "cell_type": "code",
   "execution_count": 10,
   "id": "d2e6b2d0-3e15-4e41-b539-adacc2b0272f",
   "metadata": {
    "tags": []
   },
   "outputs": [],
   "source": [
    "#string concatenation we can add the string but negate them"
   ]
  },
  {
   "cell_type": "code",
   "execution_count": 11,
   "id": "a551a4f9-1663-4f94-9c78-f3892a5bbebf",
   "metadata": {
    "tags": []
   },
   "outputs": [
    {
     "name": "stdout",
     "output_type": "stream",
     "text": [
      "pawankumar\n"
     ]
    }
   ],
   "source": [
    "print(first+last)"
   ]
  },
  {
   "cell_type": "code",
   "execution_count": 13,
   "id": "b9eb31a4-4dbb-42ff-bbf2-a6529c5dc56e",
   "metadata": {
    "tags": []
   },
   "outputs": [
    {
     "name": "stdout",
     "output_type": "stream",
     "text": [
      "1\n"
     ]
    },
    {
     "data": {
      "text/plain": [
       "str"
      ]
     },
     "execution_count": 13,
     "metadata": {},
     "output_type": "execute_result"
    }
   ],
   "source": [
    "print(\"1\")\n",
    "type(\"1\")"
   ]
  },
  {
   "cell_type": "code",
   "execution_count": 15,
   "id": "9ff04dc8-6e48-4b60-b677-5c79148e679d",
   "metadata": {
    "tags": []
   },
   "outputs": [
    {
     "name": "stdout",
     "output_type": "stream",
     "text": [
      "12\n"
     ]
    }
   ],
   "source": [
    "print(\"1\"+\"2\")"
   ]
  },
  {
   "cell_type": "code",
   "execution_count": 17,
   "id": "369147ee-9258-45f5-8757-5d61f6484822",
   "metadata": {
    "tags": []
   },
   "outputs": [
    {
     "data": {
      "text/plain": [
       "'pawanpawanpawan'"
      ]
     },
     "execution_count": 17,
     "metadata": {},
     "output_type": "execute_result"
    }
   ],
   "source": [
    "first*3"
   ]
  },
  {
   "cell_type": "code",
   "execution_count": 18,
   "id": "36ec3ebe-828d-4ea4-8f28-1bb24cfedc1b",
   "metadata": {
    "tags": []
   },
   "outputs": [],
   "source": [
    "# Modulus % : it will give remainder"
   ]
  },
  {
   "cell_type": "code",
   "execution_count": 19,
   "id": "ebba88e3-dcf5-4f86-aceb-ee93769f2654",
   "metadata": {
    "tags": []
   },
   "outputs": [
    {
     "name": "stdout",
     "output_type": "stream",
     "text": [
      "8 4\n"
     ]
    }
   ],
   "source": [
    " print( a,b)"
   ]
  },
  {
   "cell_type": "code",
   "execution_count": 20,
   "id": "c2389080-406e-4da6-bb3b-f11776fffae3",
   "metadata": {
    "tags": []
   },
   "outputs": [
    {
     "name": "stdout",
     "output_type": "stream",
     "text": [
      "0\n"
     ]
    }
   ],
   "source": [
    "print(a%b)"
   ]
  },
  {
   "cell_type": "code",
   "execution_count": 21,
   "id": "db23e920-4483-4c4b-b0d4-f9b16daf3d82",
   "metadata": {
    "tags": []
   },
   "outputs": [
    {
     "name": "stdout",
     "output_type": "stream",
     "text": [
      "1\n"
     ]
    }
   ],
   "source": [
    "print(5%2)"
   ]
  },
  {
   "cell_type": "code",
   "execution_count": 22,
   "id": "07cd6fc5-fe47-452f-a23c-9d9bd9d89212",
   "metadata": {
    "tags": []
   },
   "outputs": [],
   "source": [
    "# // floor division, result is floored to the nearest smaller integer"
   ]
  },
  {
   "cell_type": "code",
   "execution_count": 23,
   "id": "e63c9bef-25ca-4b5e-9d8f-f6c398a575fa",
   "metadata": {
    "tags": []
   },
   "outputs": [
    {
     "name": "stdout",
     "output_type": "stream",
     "text": [
      "1.6666666666666667\n"
     ]
    }
   ],
   "source": [
    "print( 5/3)"
   ]
  },
  {
   "cell_type": "code",
   "execution_count": 24,
   "id": "9d74e117-8b9a-49cb-997e-78b8c8877fcc",
   "metadata": {
    "tags": []
   },
   "outputs": [
    {
     "name": "stdout",
     "output_type": "stream",
     "text": [
      "1\n"
     ]
    }
   ],
   "source": [
    "print(5//3) # nearest smallest integer"
   ]
  },
  {
   "cell_type": "code",
   "execution_count": 25,
   "id": "5d825660-36e7-48df-a2de-89f415980b3c",
   "metadata": {
    "tags": []
   },
   "outputs": [
    {
     "data": {
      "text/plain": [
       "-2"
      ]
     },
     "execution_count": 25,
     "metadata": {},
     "output_type": "execute_result"
    }
   ],
   "source": [
    "-3//2"
   ]
  },
  {
   "cell_type": "code",
   "execution_count": 26,
   "id": "207f33ca-9559-46e6-bb82-7175ec481297",
   "metadata": {
    "tags": []
   },
   "outputs": [],
   "source": [
    "# to the power accepts two values base and power"
   ]
  },
  {
   "cell_type": "code",
   "execution_count": 27,
   "id": "6f8a97b3-a1d3-42ca-b83d-b2a03cc8b6ad",
   "metadata": {
    "tags": []
   },
   "outputs": [
    {
     "name": "stdout",
     "output_type": "stream",
     "text": [
      "8 4\n"
     ]
    }
   ],
   "source": [
    "print(a,b)"
   ]
  },
  {
   "cell_type": "code",
   "execution_count": 28,
   "id": "a4d55555-8d9e-4029-8c50-921846336932",
   "metadata": {
    "tags": []
   },
   "outputs": [
    {
     "name": "stdout",
     "output_type": "stream",
     "text": [
      "4096\n"
     ]
    }
   ],
   "source": [
    "print(a**b)"
   ]
  },
  {
   "cell_type": "code",
   "execution_count": null,
   "id": "f7744de2-7741-4db8-8a4c-1179516c7a3c",
   "metadata": {},
   "outputs": [],
   "source": []
  },
  {
   "cell_type": "code",
   "execution_count": null,
   "id": "696ac6a4-e21c-4835-84bc-26b903389deb",
   "metadata": {},
   "outputs": [],
   "source": []
  },
  {
   "cell_type": "code",
   "execution_count": 29,
   "id": "2824e87b-0c52-4ecb-ada5-aeee57b02a90",
   "metadata": {
    "tags": []
   },
   "outputs": [],
   "source": [
    "# Comparistion operator "
   ]
  },
  {
   "cell_type": "code",
   "execution_count": 30,
   "id": "e635fccb-e0e2-427f-974e-6520a2a96dc6",
   "metadata": {
    "tags": []
   },
   "outputs": [
    {
     "name": "stdout",
     "output_type": "stream",
     "text": [
      "False\n"
     ]
    }
   ],
   "source": [
    "a= 6\n",
    "b=8\n",
    "print (a==b)"
   ]
  },
  {
   "cell_type": "code",
   "execution_count": 31,
   "id": "f48a5b64-9e87-4889-a807-87275c5ba62f",
   "metadata": {
    "tags": []
   },
   "outputs": [
    {
     "name": "stdout",
     "output_type": "stream",
     "text": [
      "True\n"
     ]
    }
   ],
   "source": [
    "print (a!=b)"
   ]
  },
  {
   "cell_type": "code",
   "execution_count": 32,
   "id": "bef7ea0d-23de-41e4-888b-9945d87cc403",
   "metadata": {
    "tags": []
   },
   "outputs": [
    {
     "name": "stdout",
     "output_type": "stream",
     "text": [
      "True\n"
     ]
    }
   ],
   "source": [
    "print (4==4)"
   ]
  },
  {
   "cell_type": "code",
   "execution_count": 33,
   "id": "9b774db3-7c81-413b-807a-4d8ef2aad735",
   "metadata": {
    "tags": []
   },
   "outputs": [
    {
     "name": "stdout",
     "output_type": "stream",
     "text": [
      "True\n"
     ]
    }
   ],
   "source": [
    "print(a<b)"
   ]
  },
  {
   "cell_type": "code",
   "execution_count": 34,
   "id": "56bf7ccd-cb83-4070-b5ba-cf5de5c47142",
   "metadata": {
    "tags": []
   },
   "outputs": [
    {
     "name": "stdout",
     "output_type": "stream",
     "text": [
      "False\n"
     ]
    }
   ],
   "source": [
    "print(a>b)"
   ]
  },
  {
   "cell_type": "code",
   "execution_count": 39,
   "id": "329adfd8-8d95-43b3-a8de-f6bea8fcf857",
   "metadata": {
    "tags": []
   },
   "outputs": [
    {
     "name": "stdout",
     "output_type": "stream",
     "text": [
      "True\n"
     ]
    }
   ],
   "source": [
    "print(3<=3.1)"
   ]
  },
  {
   "cell_type": "code",
   "execution_count": 36,
   "id": "70d8b3eb-5699-4792-9522-f9d9539a86f9",
   "metadata": {
    "tags": []
   },
   "outputs": [
    {
     "name": "stdout",
     "output_type": "stream",
     "text": [
      "False\n"
     ]
    }
   ],
   "source": [
    "print(3>=3.4)"
   ]
  },
  {
   "cell_type": "code",
   "execution_count": null,
   "id": "db3c5e99-ca00-46b8-8a35-ccefd4949aa1",
   "metadata": {},
   "outputs": [],
   "source": [
    "\n"
   ]
  },
  {
   "cell_type": "code",
   "execution_count": 40,
   "id": "0725b89f-40fa-47e3-969a-0c008781cffa",
   "metadata": {
    "tags": []
   },
   "outputs": [],
   "source": [
    "# assignment opperator "
   ]
  },
  {
   "cell_type": "code",
   "execution_count": 49,
   "id": "49dde5ae-cfaf-41e0-a050-2631586a1028",
   "metadata": {
    "tags": []
   },
   "outputs": [],
   "source": [
    "a=7"
   ]
  },
  {
   "cell_type": "code",
   "execution_count": 50,
   "id": "b855c483-f0ac-450b-9cff-6bf619453305",
   "metadata": {
    "tags": []
   },
   "outputs": [],
   "source": [
    "a= a+3"
   ]
  },
  {
   "cell_type": "code",
   "execution_count": 51,
   "id": "baa6e577-bf83-41b6-82a4-87d43d202ee9",
   "metadata": {
    "tags": []
   },
   "outputs": [
    {
     "name": "stdout",
     "output_type": "stream",
     "text": [
      "10\n"
     ]
    }
   ],
   "source": [
    "print(a)"
   ]
  },
  {
   "cell_type": "code",
   "execution_count": 52,
   "id": "eb96dcf4-dd1c-420c-8204-d6d7460dba36",
   "metadata": {
    "tags": []
   },
   "outputs": [
    {
     "name": "stdout",
     "output_type": "stream",
     "text": [
      "6\n"
     ]
    }
   ],
   "source": [
    "a =+ 6\n",
    "print(a)"
   ]
  },
  {
   "cell_type": "code",
   "execution_count": null,
   "id": "445a7378-0d16-4e47-b88c-da8802d30c99",
   "metadata": {},
   "outputs": [],
   "source": []
  },
  {
   "cell_type": "code",
   "execution_count": 53,
   "id": "c088ddf7-7936-4ef9-b4bf-75aae3a6f3e5",
   "metadata": {
    "tags": []
   },
   "outputs": [],
   "source": [
    "a=5"
   ]
  },
  {
   "cell_type": "code",
   "execution_count": 54,
   "id": "8aa4d84b-0db8-4652-99e4-ebe55694925b",
   "metadata": {
    "tags": []
   },
   "outputs": [
    {
     "name": "stdout",
     "output_type": "stream",
     "text": [
      "8\n"
     ]
    }
   ],
   "source": [
    "a = a+3\n",
    "print (a)"
   ]
  },
  {
   "cell_type": "code",
   "execution_count": 55,
   "id": "8a2be1ed-a810-4433-bba7-52f44e1081ae",
   "metadata": {
    "tags": []
   },
   "outputs": [
    {
     "name": "stdout",
     "output_type": "stream",
     "text": [
      "16\n"
     ]
    }
   ],
   "source": [
    "a +=8\n",
    "print(a)"
   ]
  },
  {
   "cell_type": "code",
   "execution_count": null,
   "id": "634e08e6-7712-4bc3-b854-3416938b3cf0",
   "metadata": {},
   "outputs": [],
   "source": [
    "\n"
   ]
  },
  {
   "cell_type": "code",
   "execution_count": 56,
   "id": "43cf596c-d99a-43ce-9b9b-0257752e8dd9",
   "metadata": {
    "tags": []
   },
   "outputs": [],
   "source": [
    "a-=5 # a= a-5"
   ]
  },
  {
   "cell_type": "code",
   "execution_count": 57,
   "id": "1f4c80a3-931b-4a54-a72f-5de167ca23bc",
   "metadata": {
    "tags": []
   },
   "outputs": [
    {
     "name": "stdout",
     "output_type": "stream",
     "text": [
      "11\n"
     ]
    }
   ],
   "source": [
    "print(a)"
   ]
  },
  {
   "cell_type": "code",
   "execution_count": null,
   "id": "ebaf7a12-b95d-46fe-957b-0e5ec9ca6e9c",
   "metadata": {},
   "outputs": [],
   "source": [
    "\n"
   ]
  },
  {
   "cell_type": "code",
   "execution_count": 58,
   "id": "14fbc806-7d30-4a2f-8672-d63cab10f159",
   "metadata": {
    "tags": []
   },
   "outputs": [
    {
     "name": "stdout",
     "output_type": "stream",
     "text": [
      "3.6666666666666665\n"
     ]
    }
   ],
   "source": [
    "a/=3 # a=a/2\n",
    "print(a)"
   ]
  },
  {
   "cell_type": "code",
   "execution_count": null,
   "id": "997c37d1-3454-458a-9349-06d974553e7e",
   "metadata": {},
   "outputs": [],
   "source": []
  },
  {
   "cell_type": "code",
   "execution_count": 59,
   "id": "ee159efc-423d-4efe-a9d5-b0f1cb24fef0",
   "metadata": {
    "tags": []
   },
   "outputs": [],
   "source": [
    "# logical operator"
   ]
  },
  {
   "cell_type": "code",
   "execution_count": 60,
   "id": "7baaee81-675f-4277-b8a6-2f1df0c37a7f",
   "metadata": {
    "tags": []
   },
   "outputs": [],
   "source": [
    "# and"
   ]
  },
  {
   "cell_type": "code",
   "execution_count": 61,
   "id": "d52f0fc6-e0c1-45f6-8eea-96cd4f3bf641",
   "metadata": {
    "tags": []
   },
   "outputs": [
    {
     "name": "stdout",
     "output_type": "stream",
     "text": [
      "False\n"
     ]
    }
   ],
   "source": [
    "a= 2>3\n",
    "print(a)"
   ]
  },
  {
   "cell_type": "code",
   "execution_count": 62,
   "id": "0afeb928-fca1-4bdd-a18d-dd9760f0612a",
   "metadata": {
    "tags": []
   },
   "outputs": [
    {
     "name": "stdout",
     "output_type": "stream",
     "text": [
      "False\n"
     ]
    }
   ],
   "source": [
    "b= 2<2\n",
    "print(b)"
   ]
  },
  {
   "cell_type": "code",
   "execution_count": 63,
   "id": "da1a2e57-527a-4d5d-baf9-0cd2735121e1",
   "metadata": {
    "tags": []
   },
   "outputs": [
    {
     "data": {
      "text/plain": [
       "False"
      ]
     },
     "execution_count": 63,
     "metadata": {},
     "output_type": "execute_result"
    }
   ],
   "source": [
    "a and b"
   ]
  },
  {
   "cell_type": "code",
   "execution_count": 64,
   "id": "96fa1aac-4a30-4981-93fb-64f8a83de0e5",
   "metadata": {
    "tags": []
   },
   "outputs": [
    {
     "data": {
      "text/plain": [
       "False"
      ]
     },
     "execution_count": 64,
     "metadata": {},
     "output_type": "execute_result"
    }
   ],
   "source": [
    "4<3 and 2<1"
   ]
  },
  {
   "cell_type": "code",
   "execution_count": null,
   "id": "b9360d2f-2e46-4cad-9a51-6bf90235a26c",
   "metadata": {},
   "outputs": [],
   "source": []
  },
  {
   "cell_type": "code",
   "execution_count": 65,
   "id": "9dbd781f-31b5-4304-be21-0b449ffe82da",
   "metadata": {
    "tags": []
   },
   "outputs": [],
   "source": [
    "# OR"
   ]
  },
  {
   "cell_type": "code",
   "execution_count": 66,
   "id": "2c1430cd-2810-4a82-a716-68be95ba507d",
   "metadata": {
    "tags": []
   },
   "outputs": [
    {
     "data": {
      "text/plain": [
       "True"
      ]
     },
     "execution_count": 66,
     "metadata": {},
     "output_type": "execute_result"
    }
   ],
   "source": [
    "True or False"
   ]
  },
  {
   "cell_type": "code",
   "execution_count": 67,
   "id": "caf83aed-9734-49f9-bf00-61355ff8d9af",
   "metadata": {
    "tags": []
   },
   "outputs": [
    {
     "data": {
      "text/plain": [
       "False"
      ]
     },
     "execution_count": 67,
     "metadata": {},
     "output_type": "execute_result"
    }
   ],
   "source": [
    "False or False"
   ]
  },
  {
   "cell_type": "code",
   "execution_count": 69,
   "id": "5c05394f-f7c0-4de3-85f1-b5f9ee8313e9",
   "metadata": {
    "tags": []
   },
   "outputs": [
    {
     "data": {
      "text/plain": [
       "True"
      ]
     },
     "execution_count": 69,
     "metadata": {},
     "output_type": "execute_result"
    }
   ],
   "source": [
    "False or True"
   ]
  },
  {
   "cell_type": "code",
   "execution_count": 70,
   "id": "fa3f53ca-5352-4900-91af-544bc32f6e65",
   "metadata": {
    "tags": []
   },
   "outputs": [
    {
     "data": {
      "text/plain": [
       "True"
      ]
     },
     "execution_count": 70,
     "metadata": {},
     "output_type": "execute_result"
    }
   ],
   "source": [
    "3>2 or 4<2"
   ]
  },
  {
   "cell_type": "code",
   "execution_count": null,
   "id": "ed5ec9e2-e73f-454c-a0ed-15dde7814c73",
   "metadata": {},
   "outputs": [],
   "source": []
  },
  {
   "cell_type": "code",
   "execution_count": 71,
   "id": "31e3407b-aa8e-4ff6-acd7-08524f952b61",
   "metadata": {
    "tags": []
   },
   "outputs": [],
   "source": [
    "# not"
   ]
  },
  {
   "cell_type": "code",
   "execution_count": 72,
   "id": "36d84860-4768-41be-9945-a8a189a18a33",
   "metadata": {
    "tags": []
   },
   "outputs": [
    {
     "data": {
      "text/plain": [
       "True"
      ]
     },
     "execution_count": 72,
     "metadata": {},
     "output_type": "execute_result"
    }
   ],
   "source": [
    "not False"
   ]
  },
  {
   "cell_type": "code",
   "execution_count": 73,
   "id": "abebe631-8ef8-402a-b739-f220d775feb2",
   "metadata": {
    "tags": []
   },
   "outputs": [
    {
     "data": {
      "text/plain": [
       "False"
      ]
     },
     "execution_count": 73,
     "metadata": {},
     "output_type": "execute_result"
    }
   ],
   "source": [
    "not True"
   ]
  },
  {
   "cell_type": "code",
   "execution_count": 74,
   "id": "d9574be8-bff3-4e33-b7d7-e58895024731",
   "metadata": {
    "tags": []
   },
   "outputs": [
    {
     "ename": "SyntaxError",
     "evalue": "invalid syntax (2064284254.py, line 1)",
     "output_type": "error",
     "traceback": [
      "\u001b[0;36m  Cell \u001b[0;32mIn[74], line 1\u001b[0;36m\u001b[0m\n\u001b[0;31m    True not False\u001b[0m\n\u001b[0m             ^\u001b[0m\n\u001b[0;31mSyntaxError\u001b[0m\u001b[0;31m:\u001b[0m invalid syntax\n"
     ]
    }
   ],
   "source": [
    " True not False"
   ]
  },
  {
   "cell_type": "code",
   "execution_count": 75,
   "id": "85c11702-3b73-4d90-86fc-fd75d04a4dc3",
   "metadata": {
    "tags": []
   },
   "outputs": [
    {
     "data": {
      "text/plain": [
       "True"
      ]
     },
     "execution_count": 75,
     "metadata": {},
     "output_type": "execute_result"
    }
   ],
   "source": [
    "not 2>3"
   ]
  },
  {
   "cell_type": "code",
   "execution_count": 76,
   "id": "e50c749b-2b18-461e-93f3-72a4160893d3",
   "metadata": {
    "tags": []
   },
   "outputs": [
    {
     "data": {
      "text/plain": [
       "False"
      ]
     },
     "execution_count": 76,
     "metadata": {},
     "output_type": "execute_result"
    }
   ],
   "source": [
    "not 3>2"
   ]
  },
  {
   "cell_type": "code",
   "execution_count": null,
   "id": "53fabc4b-ae72-4316-a56d-9df1e5646096",
   "metadata": {},
   "outputs": [],
   "source": []
  },
  {
   "cell_type": "code",
   "execution_count": 77,
   "id": "39526218-cd40-4ec7-ac0f-c543c3c0fc99",
   "metadata": {
    "tags": []
   },
   "outputs": [],
   "source": [
    "# Special operators"
   ]
  },
  {
   "cell_type": "code",
   "execution_count": 79,
   "id": "9ba77c5e-d4f4-482d-91ab-38a7dc7667a3",
   "metadata": {
    "tags": []
   },
   "outputs": [],
   "source": [
    "# in operator tells you if an object is part of other object or not, in = membership operator"
   ]
  },
  {
   "cell_type": "code",
   "execution_count": 80,
   "id": "ce4c3a9d-f83a-43c9-913c-7fa712ca7a87",
   "metadata": {
    "tags": []
   },
   "outputs": [],
   "source": [
    "name = \"pawan kumar\""
   ]
  },
  {
   "cell_type": "code",
   "execution_count": 81,
   "id": "6ca02bbd-c253-4522-892d-e7d118d552e6",
   "metadata": {
    "tags": []
   },
   "outputs": [
    {
     "data": {
      "text/plain": [
       "True"
      ]
     },
     "execution_count": 81,
     "metadata": {},
     "output_type": "execute_result"
    }
   ],
   "source": [
    "\"r\" in name"
   ]
  },
  {
   "cell_type": "code",
   "execution_count": 82,
   "id": "087ed453-8013-4875-9ec4-70c611a0b79e",
   "metadata": {
    "tags": []
   },
   "outputs": [
    {
     "data": {
      "text/plain": [
       "True"
      ]
     },
     "execution_count": 82,
     "metadata": {},
     "output_type": "execute_result"
    }
   ],
   "source": [
    "\"wan\" in name"
   ]
  },
  {
   "cell_type": "code",
   "execution_count": 83,
   "id": "8002d920-29e1-4ba9-a086-941c8cc5ca05",
   "metadata": {
    "tags": []
   },
   "outputs": [
    {
     "data": {
      "text/plain": [
       "False"
      ]
     },
     "execution_count": 83,
     "metadata": {},
     "output_type": "execute_result"
    }
   ],
   "source": [
    "\"nawap\" in name"
   ]
  },
  {
   "cell_type": "code",
   "execution_count": null,
   "id": "00f62d61-6a59-4cd5-ae16-9f272da61190",
   "metadata": {},
   "outputs": [],
   "source": []
  },
  {
   "cell_type": "code",
   "execution_count": 85,
   "id": "aeec0b35-2b09-4b93-b7f9-c9fafc5ffe35",
   "metadata": {
    "tags": []
   },
   "outputs": [],
   "source": [
    "# is operator tells you the object memory location\n"
   ]
  },
  {
   "cell_type": "code",
   "execution_count": 86,
   "id": "4e7dff74-b643-44ec-8ba1-add90b4edf8f",
   "metadata": {
    "tags": []
   },
   "outputs": [],
   "source": [
    "a = 5\n",
    "b= 5"
   ]
  },
  {
   "cell_type": "code",
   "execution_count": 87,
   "id": "3b54faa7-3145-4cdf-a539-0899095c06a2",
   "metadata": {
    "tags": []
   },
   "outputs": [
    {
     "name": "stdout",
     "output_type": "stream",
     "text": [
      "4308346200 4308346200\n"
     ]
    }
   ],
   "source": [
    "print (id (a), id (b))"
   ]
  },
  {
   "cell_type": "code",
   "execution_count": 88,
   "id": "e63606be-fe08-4c12-bc52-aff21f91bea0",
   "metadata": {
    "tags": []
   },
   "outputs": [
    {
     "data": {
      "text/plain": [
       "True"
      ]
     },
     "execution_count": 88,
     "metadata": {},
     "output_type": "execute_result"
    }
   ],
   "source": [
    "a is b"
   ]
  },
  {
   "cell_type": "code",
   "execution_count": 89,
   "id": "b265ab2d-9f2b-4380-82c9-423efdb3c8ec",
   "metadata": {
    "tags": []
   },
   "outputs": [
    {
     "name": "stdout",
     "output_type": "stream",
     "text": [
      "4308346296 4308346168\n"
     ]
    }
   ],
   "source": [
    "k = 8\n",
    "l= 4\n",
    "print (id(k), id(l))"
   ]
  },
  {
   "cell_type": "code",
   "execution_count": 90,
   "id": "d48c50b3-446a-4094-8ac5-cad253d3d802",
   "metadata": {
    "tags": []
   },
   "outputs": [
    {
     "data": {
      "text/plain": [
       "False"
      ]
     },
     "execution_count": 90,
     "metadata": {},
     "output_type": "execute_result"
    }
   ],
   "source": [
    "k is l"
   ]
  },
  {
   "cell_type": "code",
   "execution_count": null,
   "id": "0602261f-2e03-464e-aa28-2e5c23fe8461",
   "metadata": {},
   "outputs": [],
   "source": []
  },
  {
   "cell_type": "code",
   "execution_count": 42,
   "id": "262137b2-4d44-4e25-b5d7-a1ed7a599cae",
   "metadata": {
    "tags": []
   },
   "outputs": [
    {
     "ename": "IndentationError",
     "evalue": "unindent does not match any outer indentation level (<tokenize>, line 5)",
     "output_type": "error",
     "traceback": [
      "\u001b[0;36m  File \u001b[0;32m<tokenize>:5\u001b[0;36m\u001b[0m\n\u001b[0;31m    r =input(radius)\u001b[0m\n\u001b[0m    ^\u001b[0m\n\u001b[0;31mIndentationError\u001b[0m\u001b[0;31m:\u001b[0m unindent does not match any outer indentation level\n"
     ]
    }
   ],
   "source": [
    "def shpere_volume (radius):\n",
    "    volume = (4/3)* (22/7)*(3**3)\n",
    "    return volume\n",
    "\n",
    "   r =input(radius)\n",
    " \n",
    "   print(\"volume of sphere is  \" )\n"
   ]
  },
  {
   "cell_type": "code",
   "execution_count": 21,
   "id": "e2e665cc-8e53-4c23-b374-0910081af8d4",
   "metadata": {
    "tags": []
   },
   "outputs": [
    {
     "name": "stdin",
     "output_type": "stream",
     "text": [
      " 8\n"
     ]
    }
   ],
   "source": [
    "r = input()"
   ]
  },
  {
   "cell_type": "code",
   "execution_count": 51,
   "id": "a0b9261b-53d8-446b-83db-b98a802a22f9",
   "metadata": {
    "tags": []
   },
   "outputs": [
    {
     "name": "stdin",
     "output_type": "stream",
     "text": [
      " 2\n"
     ]
    },
    {
     "ename": "TypeError",
     "evalue": "can't multiply sequence by non-int of type 'float'",
     "output_type": "error",
     "traceback": [
      "\u001b[0;31m---------------------------------------------------------------------------\u001b[0m",
      "\u001b[0;31mTypeError\u001b[0m                                 Traceback (most recent call last)",
      "Cell \u001b[0;32mIn[51], line 7\u001b[0m\n\u001b[1;32m      5\u001b[0m     \u001b[38;5;28;01mreturn\u001b[39;00m volume\n\u001b[1;32m      6\u001b[0m radius \u001b[38;5;241m=\u001b[39m \u001b[38;5;28minput\u001b[39m()\n\u001b[0;32m----> 7\u001b[0m result \u001b[38;5;241m=\u001b[39m shpere_volume (radius)\n\u001b[1;32m      8\u001b[0m \u001b[38;5;28mprint\u001b[39m (\u001b[38;5;124m\"\u001b[39m\u001b[38;5;124mthe volume of sphere with radius   is:  \u001b[39m\u001b[38;5;124m\"\u001b[39m, shpere_volume(radius))\n",
      "Cell \u001b[0;32mIn[51], line 4\u001b[0m, in \u001b[0;36mshpere_volume\u001b[0;34m(radius)\u001b[0m\n\u001b[1;32m      3\u001b[0m \u001b[38;5;28;01mdef\u001b[39;00m \u001b[38;5;21mshpere_volume\u001b[39m (radius):\n\u001b[0;32m----> 4\u001b[0m     volume \u001b[38;5;241m=\u001b[39m (\u001b[38;5;241m4\u001b[39m\u001b[38;5;241m/\u001b[39m\u001b[38;5;241m3\u001b[39m)\u001b[38;5;241m*\u001b[39m (\u001b[38;5;241m22\u001b[39m\u001b[38;5;241m/\u001b[39m\u001b[38;5;241m7\u001b[39m)\u001b[38;5;241m*\u001b[39m(radius\u001b[38;5;241m*\u001b[39m\u001b[38;5;241m3\u001b[39m)\n\u001b[1;32m      5\u001b[0m     \u001b[38;5;28;01mreturn\u001b[39;00m volume\n",
      "\u001b[0;31mTypeError\u001b[0m: can't multiply sequence by non-int of type 'float'"
     ]
    }
   ],
   "source": [
    "import math\n",
    "\n",
    "def shpere_volume (radius):\n",
    "    volume = (4/3)* (22/7)*(*3)\n",
    "    return volume\n",
    "radius = input()\n",
    "result = shpere_volume (radius)\n",
    "print (\"the volume of sphere with radius   is:  \", shpere_volume(radius))\n"
   ]
  },
  {
   "cell_type": "code",
   "execution_count": null,
   "id": "b1aacd40-e340-448e-8ff8-a4b921c18062",
   "metadata": {},
   "outputs": [],
   "source": []
  },
  {
   "cell_type": "code",
   "execution_count": 47,
   "id": "e73e8823-851a-479d-9b16-1404c21bb251",
   "metadata": {
    "tags": []
   },
   "outputs": [
    {
     "name": "stdin",
     "output_type": "stream",
     "text": [
      " 2\n"
     ]
    },
    {
     "name": "stdout",
     "output_type": "stream",
     "text": [
      "the volume of sphere with radius   is:  \n"
     ]
    }
   ],
   "source": [
    "radius = input()\n",
    "result = shpere_volume (radius)\n",
    "print (\"the volume of sphere with radius   is:  \")"
   ]
  },
  {
   "cell_type": "code",
   "execution_count": 48,
   "id": "0c108c17-564b-4469-8969-5817e052b52b",
   "metadata": {
    "tags": []
   },
   "outputs": [
    {
     "name": "stdout",
     "output_type": "stream",
     "text": [
      "10\n",
      "9\n"
     ]
    }
   ],
   "source": [
    "double = lambda x:2*x\n",
    "print(double(5))\n",
    "add = lambda x,y:x+y\n",
    "print(add(5,4))"
   ]
  },
  {
   "cell_type": "code",
   "execution_count": 49,
   "id": "bddb602e-d660-4593-98dd-a56527779896",
   "metadata": {
    "tags": []
   },
   "outputs": [
    {
     "name": "stdout",
     "output_type": "stream",
     "text": [
      "System version is:\n",
      "3.11.5 (main, Sep 11 2023, 08:31:25) [Clang 14.0.6 ]\n",
      "Version Information is:\n",
      "sys.version_info(major=3, minor=11, micro=5, releaselevel='final', serial=0)\n"
     ]
    }
   ],
   "source": [
    "import sys\n",
    "print(\"System version is:\")\n",
    "print(sys.version)\n",
    "print(\"Version Information is:\")\n",
    "print(sys.version_info)"
   ]
  },
  {
   "cell_type": "code",
   "execution_count": 14,
   "id": "80f42958-b18b-4148-874a-f2e9184dc35d",
   "metadata": {
    "tags": []
   },
   "outputs": [
    {
     "name": "stdout",
     "output_type": "stream",
     "text": [
      "welcome to mrcet\n"
     ]
    }
   ],
   "source": [
    "class display:\n",
    " def displayMethod(self):\n",
    "  print ('welcome to mrcet')\n",
    "#object creation process\n",
    "obj = display()\n",
    "obj.displayMethod()"
   ]
  },
  {
   "cell_type": "code",
   "execution_count": null,
   "id": "d8b4632d-13be-44e3-a918-5683c03f6c04",
   "metadata": {},
   "outputs": [],
   "source": []
  }
 ],
 "metadata": {
  "kernelspec": {
   "display_name": "Python 3 (ipykernel)",
   "language": "python",
   "name": "python3"
  },
  "language_info": {
   "codemirror_mode": {
    "name": "ipython",
    "version": 3
   },
   "file_extension": ".py",
   "mimetype": "text/x-python",
   "name": "python",
   "nbconvert_exporter": "python",
   "pygments_lexer": "ipython3",
   "version": "3.11.5"
  }
 },
 "nbformat": 4,
 "nbformat_minor": 5
}

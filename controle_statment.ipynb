{
 "cells": [
  {
   "cell_type": "markdown",
   "id": "dc70fc69-08be-4599-a4c9-6ef8925ac3ea",
   "metadata": {
    "tags": []
   },
   "source": [
    "# control flow statement"
   ]
  },
  {
   "cell_type": "code",
   "execution_count": 6,
   "id": "863168a9-f730-4c13-bf9b-aded9e0a796f",
   "metadata": {
    "tags": []
   },
   "outputs": [
    {
     "name": "stdin",
     "output_type": "stream",
     "text": [
      " 29\n"
     ]
    },
    {
     "name": "stdout",
     "output_type": "stream",
     "text": [
      "your are eligible\n",
      "Drive slow\n"
     ]
    }
   ],
   "source": [
    "age= int(input())\n",
    "\n",
    "# Now use if else\n",
    "\n",
    "if age>18:\n",
    "    print ('your are eligible')\n",
    "    print('Drive slow')\n",
    "          \n",
    "# Else will be executed when if condition is false\n",
    "else:\n",
    "          print('wait till you turn 18')"
   ]
  },
  {
   "cell_type": "code",
   "execution_count": null,
   "id": "eaf1530f-5903-4472-9baa-37bfa1f36a81",
   "metadata": {},
   "outputs": [],
   "source": []
  },
  {
   "cell_type": "markdown",
   "id": "903804d9-7ce1-400f-87db-583ff6cb4fdd",
   "metadata": {},
   "source": [
    "# nested if else statement"
   ]
  },
  {
   "cell_type": "code",
   "execution_count": 22,
   "id": "24230919-8f2a-4d9a-ba10-ae88b484b498",
   "metadata": {
    "tags": []
   },
   "outputs": [
    {
     "name": "stdin",
     "output_type": "stream",
     "text": [
      " 15\n"
     ]
    },
    {
     "name": "stdout",
     "output_type": "stream",
     "text": [
      "wait till you turn 18\n"
     ]
    }
   ],
   "source": [
    "age = int(input())\n",
    "\n",
    "# check if age is >18\n",
    "if age>18:\n",
    "    #if age is >=65\n",
    "    if age>=65:\n",
    "    print(\"Take rest\")\n",
    "    else:\n",
    "    print ('your are eligible')\n",
    "    print('Drive slow')\n",
    "# else age <18\n",
    "else:\n",
    "      print(\"wait till you turn 18\")"
   ]
  },
  {
   "cell_type": "code",
   "execution_count": null,
   "id": "9a06d010-5acf-4f7c-9910-ca71a6da5ef5",
   "metadata": {},
   "outputs": [],
   "source": []
  },
  {
   "cell_type": "markdown",
   "id": "77577b96-1b34-4e3b-b1b4-e350c190581e",
   "metadata": {},
   "source": [
    "# if, elif and Else"
   ]
  },
  {
   "cell_type": "code",
   "execution_count": 23,
   "id": "add78c09-1d99-4f3c-a5f7-84228b2cc2a3",
   "metadata": {
    "tags": []
   },
   "outputs": [],
   "source": [
    "# elif condition is used to include multiple conditional expressions after the if condition"
   ]
  },
  {
   "cell_type": "code",
   "execution_count": 24,
   "id": "80249a00-d03c-4ab9-a123-e9ea9f17b0f4",
   "metadata": {
    "tags": []
   },
   "outputs": [
    {
     "name": "stdin",
     "output_type": "stream",
     "text": [
      " 34\n"
     ]
    },
    {
     "name": "stdout",
     "output_type": "stream",
     "text": [
      "positive\n",
      "Negative\n"
     ]
    }
   ],
   "source": [
    "num = int(input())\n",
    "\n",
    "if num >0:\n",
    "    print(\"positive\")\n",
    "if num==0:\n",
    "    print(\"zero\")\n",
    "else:\n",
    "    print(\"Negative\")\n"
   ]
  },
  {
   "cell_type": "code",
   "execution_count": 27,
   "id": "8745748a-93c4-4f5c-b1d3-daf2f73fc462",
   "metadata": {
    "tags": []
   },
   "outputs": [
    {
     "name": "stdin",
     "output_type": "stream",
     "text": [
      " 0\n"
     ]
    },
    {
     "name": "stdout",
     "output_type": "stream",
     "text": [
      "zero\n"
     ]
    }
   ],
   "source": [
    "num = int(input())\n",
    "\n",
    "if num >0:\n",
    "    print(\"positive\")\n",
    "elif num==0:\n",
    "    print(\"zero\")\n",
    "else:\n",
    "    print(\"Negative\")\n"
   ]
  },
  {
   "cell_type": "markdown",
   "id": "76cad97f-505e-4ab6-aed9-6ee915362fae",
   "metadata": {
    "tags": []
   },
   "source": [
    "# Find maximum in a list\n",
    "### . Given marks of student in a class.Find the topper of the class\n",
    "### . Consider that list is non empty"
   ]
  },
  {
   "cell_type": "code",
   "execution_count": 39,
   "id": "10fafc7d-0471-4d11-a3f3-65292b58667b",
   "metadata": {
    "tags": []
   },
   "outputs": [],
   "source": [
    "marks = [90, 78, 47, 92, 89, 99]\n",
    "\n"
   ]
  },
  {
   "cell_type": "code",
   "execution_count": null,
   "id": "4d1c2fde-618f-4e3d-9e2d-e0b50475f63d",
   "metadata": {},
   "outputs": [],
   "source": []
  },
  {
   "cell_type": "code",
   "execution_count": 43,
   "id": "ee13f80b-757a-4207-88f8-78818ee194e4",
   "metadata": {
    "tags": []
   },
   "outputs": [
    {
     "name": "stdout",
     "output_type": "stream",
     "text": [
      "99\n"
     ]
    }
   ],
   "source": [
    "# iterate on list\n",
    "\n",
    "highest = marks[0]\n",
    "for i in marks: \n",
    "    #check the conditon \n",
    "    if i> highest:\n",
    "        highest =i\n",
    "\n",
    "print(highest)"
   ]
  },
  {
   "cell_type": "code",
   "execution_count": 44,
   "id": "3f37fa20-2504-40af-a27a-ac69475a4c7a",
   "metadata": {
    "tags": []
   },
   "outputs": [],
   "source": [
    "# max function"
   ]
  },
  {
   "cell_type": "code",
   "execution_count": 45,
   "id": "5415be28-830b-42fa-a7dd-5d6fa5fe9368",
   "metadata": {
    "tags": []
   },
   "outputs": [
    {
     "data": {
      "text/plain": [
       "99"
      ]
     },
     "execution_count": 45,
     "metadata": {},
     "output_type": "execute_result"
    }
   ],
   "source": [
    "max (marks)"
   ]
  },
  {
   "cell_type": "code",
   "execution_count": 46,
   "id": "b55dd88a-d385-4463-ab13-00e9023c81e9",
   "metadata": {
    "tags": []
   },
   "outputs": [
    {
     "data": {
      "text/plain": [
       "47"
      ]
     },
     "execution_count": 46,
     "metadata": {},
     "output_type": "execute_result"
    }
   ],
   "source": [
    "min (marks)"
   ]
  },
  {
   "cell_type": "code",
   "execution_count": null,
   "id": "bd5c7e62-47f8-48e2-ae79-dbd3e66962af",
   "metadata": {},
   "outputs": [],
   "source": []
  },
  {
   "cell_type": "markdown",
   "id": "73bc0752-b2b2-490e-b933-042c372087f4",
   "metadata": {
    "tags": []
   },
   "source": [
    "# Grading System\n",
    "#### A: marks equal and above 90\n",
    "#### B: marks equal to 80 annd less the 90\n",
    "#### C: marks equal to 70 annd less the 80\n",
    "#### D: marks equal to 60 annd less the 70\n",
    "#### E: less than or 0"
   ]
  },
  {
   "cell_type": "code",
   "execution_count": 58,
   "id": "59344436-82d5-4411-8cb7-cf2b7c18d43f",
   "metadata": {
    "tags": []
   },
   "outputs": [
    {
     "name": "stdin",
     "output_type": "stream",
     "text": [
      " 190\n"
     ]
    },
    {
     "name": "stdout",
     "output_type": "stream",
     "text": [
      " Invalid\n"
     ]
    }
   ],
   "source": [
    "marks = int(input())\n",
    "\n",
    "if marks>=90 and marks<=100:\n",
    "    print(\"A grade\")\n",
    "elif marks >= 80 and marks <= 90:\n",
    "    print(\"B grade\")\n",
    "elif marks >= 70 and marks <= 80:\n",
    "    print(\"C grade\")\n",
    "elif marks >=60 and marks <= 70:\n",
    "    print(\"D grade\")\n",
    "elif marks <= 60:\n",
    "    print(\"E grade\")\n",
    "else:\n",
    "    print(\" Invalid\")\n"
   ]
  },
  {
   "cell_type": "code",
   "execution_count": null,
   "id": "06249872-b394-45de-9568-b563f8650c5d",
   "metadata": {},
   "outputs": [],
   "source": []
  }
 ],
 "metadata": {
  "kernelspec": {
   "display_name": "Python 3 (ipykernel)",
   "language": "python",
   "name": "python3"
  },
  "language_info": {
   "codemirror_mode": {
    "name": "ipython",
    "version": 3
   },
   "file_extension": ".py",
   "mimetype": "text/x-python",
   "name": "python",
   "nbconvert_exporter": "python",
   "pygments_lexer": "ipython3",
   "version": "3.11.5"
  }
 },
 "nbformat": 4,
 "nbformat_minor": 5
}

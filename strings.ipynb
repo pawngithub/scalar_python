{
 "cells": [
  {
   "cell_type": "markdown",
   "id": "86545042-ba59-4f4a-99fa-09b4a1f41db0",
   "metadata": {
    "tags": []
   },
   "source": [
    "# Strings"
   ]
  },
  {
   "cell_type": "markdown",
   "id": "4e6cf0b6-18bc-48a9-9b14-4d15a086907c",
   "metadata": {
    "tags": []
   },
   "source": [
    "## indexing in a String"
   ]
  },
  {
   "cell_type": "code",
   "execution_count": 3,
   "id": "f83a703d-fa66-490c-99ca-000360762296",
   "metadata": {
    "tags": []
   },
   "outputs": [],
   "source": [
    "name= \"pawan kumar\""
   ]
  },
  {
   "cell_type": "code",
   "execution_count": 1,
   "id": "007e77ac-37da-4930-84a7-00559da70165",
   "metadata": {},
   "outputs": [],
   "source": [
    "# accessing character through indexing"
   ]
  },
  {
   "cell_type": "code",
   "execution_count": 4,
   "id": "3f679e21-263a-4958-992f-b84a690e3756",
   "metadata": {
    "tags": []
   },
   "outputs": [
    {
     "data": {
      "text/plain": [
       "'pawan kumar'"
      ]
     },
     "execution_count": 4,
     "metadata": {},
     "output_type": "execute_result"
    }
   ],
   "source": [
    "name"
   ]
  },
  {
   "cell_type": "code",
   "execution_count": 5,
   "id": "bd15868e-f977-48fa-bbf0-043a79411f4b",
   "metadata": {
    "tags": []
   },
   "outputs": [
    {
     "data": {
      "text/plain": [
       "'w'"
      ]
     },
     "execution_count": 5,
     "metadata": {},
     "output_type": "execute_result"
    }
   ],
   "source": [
    "name[2]"
   ]
  },
  {
   "cell_type": "code",
   "execution_count": 6,
   "id": "b732ede3-1ea5-4079-aead-015911d125ec",
   "metadata": {
    "tags": []
   },
   "outputs": [
    {
     "data": {
      "text/plain": [
       "'r'"
      ]
     },
     "execution_count": 6,
     "metadata": {},
     "output_type": "execute_result"
    }
   ],
   "source": [
    "name[-1]"
   ]
  },
  {
   "cell_type": "code",
   "execution_count": 7,
   "id": "c36c35d1-eede-481e-9b31-c219efba64be",
   "metadata": {
    "tags": []
   },
   "outputs": [
    {
     "data": {
      "text/plain": [
       "11"
      ]
     },
     "execution_count": 7,
     "metadata": {},
     "output_type": "execute_result"
    }
   ],
   "source": [
    "len(name)"
   ]
  },
  {
   "cell_type": "code",
   "execution_count": 9,
   "id": "07cc9598-6dff-4e93-9b44-cd0ceed917b4",
   "metadata": {
    "tags": []
   },
   "outputs": [
    {
     "data": {
      "text/plain": [
       "5"
      ]
     },
     "execution_count": 9,
     "metadata": {},
     "output_type": "execute_result"
    }
   ],
   "source": [
    "len(\"pawan\")"
   ]
  },
  {
   "cell_type": "code",
   "execution_count": 10,
   "id": "368b7f04-6ef5-4bc2-a27f-0ee38d06abdc",
   "metadata": {
    "tags": []
   },
   "outputs": [
    {
     "data": {
      "text/plain": [
       "'pawan kumar'"
      ]
     },
     "execution_count": 10,
     "metadata": {},
     "output_type": "execute_result"
    }
   ],
   "source": [
    "name"
   ]
  },
  {
   "cell_type": "code",
   "execution_count": 11,
   "id": "493ed0a1-2906-484e-a5b8-28be4b90fe9e",
   "metadata": {
    "tags": []
   },
   "outputs": [
    {
     "data": {
      "text/plain": [
       "'w'"
      ]
     },
     "execution_count": 11,
     "metadata": {},
     "output_type": "execute_result"
    }
   ],
   "source": [
    "name[2]"
   ]
  },
  {
   "cell_type": "code",
   "execution_count": null,
   "id": "ebc13d2a-7c78-4a6d-81fe-e3e8aaeadf0c",
   "metadata": {},
   "outputs": [],
   "source": [
    "# finding character using negative indexing"
   ]
  },
  {
   "cell_type": "code",
   "execution_count": 20,
   "id": "880d88e8-d064-493c-bee4-ed46572bd0bb",
   "metadata": {
    "tags": []
   },
   "outputs": [
    {
     "name": "stdout",
     "output_type": "stream",
     "text": [
      "p\n",
      "11\n"
     ]
    }
   ],
   "source": [
    "size=len(name)\n",
    "print(name[-size])\n",
    "print(size)"
   ]
  },
  {
   "cell_type": "code",
   "execution_count": null,
   "id": "036b436d-5604-4543-adf6-e93633596102",
   "metadata": {},
   "outputs": [],
   "source": []
  },
  {
   "cell_type": "markdown",
   "id": "6e629896-36aa-438d-8572-ce8ba75a1631",
   "metadata": {
    "tags": []
   },
   "source": [
    "# String Slicing"
   ]
  },
  {
   "cell_type": "code",
   "execution_count": 21,
   "id": "63f4ebfb-2dcb-41b5-b20f-533d85aa4720",
   "metadata": {
    "tags": []
   },
   "outputs": [
    {
     "data": {
      "text/plain": [
       "'pawan kumar'"
      ]
     },
     "execution_count": 21,
     "metadata": {},
     "output_type": "execute_result"
    }
   ],
   "source": [
    "name"
   ]
  },
  {
   "cell_type": "code",
   "execution_count": 22,
   "id": "364474c8-5f8b-448e-9c57-a6e67927a8e8",
   "metadata": {
    "tags": []
   },
   "outputs": [
    {
     "data": {
      "text/plain": [
       "'p'"
      ]
     },
     "execution_count": 22,
     "metadata": {},
     "output_type": "execute_result"
    }
   ],
   "source": [
    "name[0]"
   ]
  },
  {
   "cell_type": "code",
   "execution_count": null,
   "id": "6851824f-5fb5-407f-a1e3-f4adb068f7e9",
   "metadata": {},
   "outputs": [],
   "source": []
  },
  {
   "cell_type": "markdown",
   "id": "9ad3495f-5018-4130-a6f4-34ed72b156d7",
   "metadata": {},
   "source": [
    "# String Methods"
   ]
  },
  {
   "cell_type": "code",
   "execution_count": 23,
   "id": "95a09a40-8521-4129-8ddc-8006d0ae98b5",
   "metadata": {
    "tags": []
   },
   "outputs": [],
   "source": [
    "name= \"pawan kumar\""
   ]
  },
  {
   "cell_type": "code",
   "execution_count": 25,
   "id": "be0b0eab-82e5-480b-b95d-b286105cfb6a",
   "metadata": {
    "tags": []
   },
   "outputs": [
    {
     "data": {
      "text/plain": [
       "'PAWAN KUMAR'"
      ]
     },
     "execution_count": 25,
     "metadata": {},
     "output_type": "execute_result"
    }
   ],
   "source": [
    "name.upper()"
   ]
  },
  {
   "cell_type": "code",
   "execution_count": 26,
   "id": "caaae8e9-6531-405b-bd4f-bae36b1a2d25",
   "metadata": {
    "tags": []
   },
   "outputs": [
    {
     "data": {
      "text/plain": [
       "'Pawan Kumar'"
      ]
     },
     "execution_count": 26,
     "metadata": {},
     "output_type": "execute_result"
    }
   ],
   "source": [
    "name.title()"
   ]
  },
  {
   "cell_type": "code",
   "execution_count": 27,
   "id": "2313c2f6-1aa7-4d3d-84fd-e3576cb8864a",
   "metadata": {
    "tags": []
   },
   "outputs": [
    {
     "data": {
      "text/plain": [
       "'Pawan kumar'"
      ]
     },
     "execution_count": 27,
     "metadata": {},
     "output_type": "execute_result"
    }
   ],
   "source": [
    "name.capitalize()"
   ]
  },
  {
   "cell_type": "code",
   "execution_count": 28,
   "id": "c341b576-21c3-4edc-9f36-91b9066ba517",
   "metadata": {
    "tags": []
   },
   "outputs": [
    {
     "data": {
      "text/plain": [
       "'pawan kumar'"
      ]
     },
     "execution_count": 28,
     "metadata": {},
     "output_type": "execute_result"
    }
   ],
   "source": [
    "name  #by the above work or method changinge word not affect original string = explicit operation"
   ]
  },
  {
   "cell_type": "code",
   "execution_count": 29,
   "id": "464050b4-881c-4d53-808a-6607289ef7f9",
   "metadata": {
    "tags": []
   },
   "outputs": [],
   "source": [
    "name1=name.upper()"
   ]
  },
  {
   "cell_type": "code",
   "execution_count": 30,
   "id": "0bcb9cc1-df07-4191-b87d-61289037846f",
   "metadata": {
    "tags": []
   },
   "outputs": [
    {
     "data": {
      "text/plain": [
       "'PAWAN KUMAR'"
      ]
     },
     "execution_count": 30,
     "metadata": {},
     "output_type": "execute_result"
    }
   ],
   "source": [
    "name1"
   ]
  },
  {
   "cell_type": "code",
   "execution_count": 31,
   "id": "e0a916e7-913d-41ba-9d00-7ff592f0654c",
   "metadata": {
    "tags": []
   },
   "outputs": [
    {
     "data": {
      "text/plain": [
       "'pawan kumar'"
      ]
     },
     "execution_count": 31,
     "metadata": {},
     "output_type": "execute_result"
    }
   ],
   "source": [
    "name.lower()"
   ]
  },
  {
   "cell_type": "code",
   "execution_count": 32,
   "id": "2b0d8760-849a-42a9-9a00-9174564acbe8",
   "metadata": {
    "tags": []
   },
   "outputs": [
    {
     "data": {
      "text/plain": [
       "\u001b[0;31mDocstring:\u001b[0m\n",
       "S.find(sub[, start[, end]]) -> int\n",
       "\n",
       "Return the lowest index in S where substring sub is found,\n",
       "such that sub is contained within S[start:end].  Optional\n",
       "arguments start and end are interpreted as in slice notation.\n",
       "\n",
       "Return -1 on failure.\n",
       "\u001b[0;31mType:\u001b[0m      builtin_function_or_method"
      ]
     },
     "metadata": {},
     "output_type": "display_data"
    }
   ],
   "source": [
    "name.find?"
   ]
  },
  {
   "cell_type": "code",
   "execution_count": 35,
   "id": "dfacb0bd-0b9e-4317-b2bc-fce3caa6d0ed",
   "metadata": {
    "tags": []
   },
   "outputs": [
    {
     "data": {
      "text/plain": [
       "1"
      ]
     },
     "execution_count": 35,
     "metadata": {},
     "output_type": "execute_result"
    }
   ],
   "source": [
    "name.find(\"a\") # repitative words give first or initial count"
   ]
  },
  {
   "cell_type": "code",
   "execution_count": 37,
   "id": "c62b57eb-d035-4cae-aa4c-e3ed68c4ad1e",
   "metadata": {
    "tags": []
   },
   "outputs": [
    {
     "data": {
      "text/plain": [
       "\u001b[0;31mDocstring:\u001b[0m\n",
       "S.count(sub[, start[, end]]) -> int\n",
       "\n",
       "Return the number of non-overlapping occurrences of substring sub in\n",
       "string S[start:end].  Optional arguments start and end are\n",
       "interpreted as in slice notation.\n",
       "\u001b[0;31mType:\u001b[0m      builtin_function_or_method"
      ]
     },
     "metadata": {},
     "output_type": "display_data"
    }
   ],
   "source": [
    "name.count?"
   ]
  },
  {
   "cell_type": "code",
   "execution_count": 40,
   "id": "85e32543-ae24-45b4-9318-5bdf11a17a9c",
   "metadata": {
    "tags": []
   },
   "outputs": [
    {
     "data": {
      "text/plain": [
       "1"
      ]
     },
     "execution_count": 40,
     "metadata": {},
     "output_type": "execute_result"
    }
   ],
   "source": [
    "name.count(\"wa\")"
   ]
  },
  {
   "cell_type": "code",
   "execution_count": 41,
   "id": "0139be75-cc20-44fa-b87c-f3060d46895e",
   "metadata": {
    "tags": []
   },
   "outputs": [
    {
     "data": {
      "text/plain": [
       "0"
      ]
     },
     "execution_count": 41,
     "metadata": {},
     "output_type": "execute_result"
    }
   ],
   "source": [
    "name.count(\"f\")"
   ]
  },
  {
   "cell_type": "code",
   "execution_count": 42,
   "id": "beca7a16-6124-466c-9bbd-a2f6fa718f87",
   "metadata": {
    "tags": []
   },
   "outputs": [
    {
     "data": {
      "text/plain": [
       "\u001b[0;31mDocstring:\u001b[0m\n",
       "S.index(sub[, start[, end]]) -> int\n",
       "\n",
       "Return the lowest index in S where substring sub is found,\n",
       "such that sub is contained within S[start:end].  Optional\n",
       "arguments start and end are interpreted as in slice notation.\n",
       "\n",
       "Raises ValueError when the substring is not found.\n",
       "\u001b[0;31mType:\u001b[0m      builtin_function_or_method"
      ]
     },
     "metadata": {},
     "output_type": "display_data"
    }
   ],
   "source": [
    "name.index?"
   ]
  },
  {
   "cell_type": "code",
   "execution_count": 44,
   "id": "792c99d7-473e-4620-8abd-3842729386c2",
   "metadata": {
    "tags": []
   },
   "outputs": [
    {
     "data": {
      "text/plain": [
       "6"
      ]
     },
     "execution_count": 44,
     "metadata": {},
     "output_type": "execute_result"
    }
   ],
   "source": [
    "name.index(\"k\") # repitative give lowest and first occurance of the string"
   ]
  },
  {
   "cell_type": "code",
   "execution_count": 45,
   "id": "1038798d-2e4c-4c7f-a64a-4c495ac9de01",
   "metadata": {
    "tags": []
   },
   "outputs": [
    {
     "data": {
      "text/plain": [
       "\u001b[0;31mSignature:\u001b[0m \u001b[0mname\u001b[0m\u001b[0;34m.\u001b[0m\u001b[0mreplace\u001b[0m\u001b[0;34m(\u001b[0m\u001b[0mold\u001b[0m\u001b[0;34m,\u001b[0m \u001b[0mnew\u001b[0m\u001b[0;34m,\u001b[0m \u001b[0mcount\u001b[0m\u001b[0;34m=\u001b[0m\u001b[0;34m-\u001b[0m\u001b[0;36m1\u001b[0m\u001b[0;34m,\u001b[0m \u001b[0;34m/\u001b[0m\u001b[0;34m)\u001b[0m\u001b[0;34m\u001b[0m\u001b[0;34m\u001b[0m\u001b[0m\n",
       "\u001b[0;31mDocstring:\u001b[0m\n",
       "Return a copy with all occurrences of substring old replaced by new.\n",
       "\n",
       "  count\n",
       "    Maximum number of occurrences to replace.\n",
       "    -1 (the default value) means replace all occurrences.\n",
       "\n",
       "If the optional argument count is given, only the first count occurrences are\n",
       "replaced.\n",
       "\u001b[0;31mType:\u001b[0m      builtin_function_or_method"
      ]
     },
     "metadata": {},
     "output_type": "display_data"
    }
   ],
   "source": [
    "name.replace?"
   ]
  },
  {
   "cell_type": "code",
   "execution_count": 46,
   "id": "72704418-ddfd-423b-894f-8676c54179d0",
   "metadata": {
    "tags": []
   },
   "outputs": [
    {
     "data": {
      "text/plain": [
       "'pAwAn kumAr'"
      ]
     },
     "execution_count": 46,
     "metadata": {},
     "output_type": "execute_result"
    }
   ],
   "source": [
    "name.replace(\"a\", \"A\")  # instead of \"a\" we add whole string or small like \"pawa\"  to \"PAWA\""
   ]
  },
  {
   "cell_type": "code",
   "execution_count": 48,
   "id": "19b39d0a-09a0-4b42-8ae9-d9f2aa2dd403",
   "metadata": {
    "tags": []
   },
   "outputs": [
    {
     "data": {
      "text/plain": [
       "['pawan', 'kumar']"
      ]
     },
     "execution_count": 48,
     "metadata": {},
     "output_type": "execute_result"
    }
   ],
   "source": [
    "name.split() #it will cut the two string by comma and replace with [ ]"
   ]
  },
  {
   "cell_type": "code",
   "execution_count": 50,
   "id": "4c6f9100-cf6d-4f20-a052-c682d30e1182",
   "metadata": {
    "tags": []
   },
   "outputs": [
    {
     "data": {
      "text/plain": [
       "['p', 'w', 'n kum', 'r']"
      ]
     },
     "execution_count": 50,
     "metadata": {},
     "output_type": "execute_result"
    }
   ],
   "source": [
    "name.split(\"a\")  # wherever a it cut seperate with comma"
   ]
  },
  {
   "cell_type": "code",
   "execution_count": null,
   "id": "78ebfd37-7df2-496f-838e-3e911a3dba36",
   "metadata": {},
   "outputs": [],
   "source": []
  },
  {
   "cell_type": "code",
   "execution_count": 52,
   "id": "b1c215e7-ea4c-4dc6-9f71-7e6ca5ff6c77",
   "metadata": {
    "tags": []
   },
   "outputs": [
    {
     "data": {
      "text/plain": [
       "False"
      ]
     },
     "execution_count": 52,
     "metadata": {},
     "output_type": "execute_result"
    }
   ],
   "source": [
    "name.isupper()  #if the name string is full uper case its out put is True or else False"
   ]
  },
  {
   "cell_type": "code",
   "execution_count": 54,
   "id": "39034b07-9933-42ae-9292-c86ebd57282a",
   "metadata": {
    "tags": []
   },
   "outputs": [],
   "source": [
    "name2= \"GOWTHAM\""
   ]
  },
  {
   "cell_type": "code",
   "execution_count": 55,
   "id": "b377bd7c-bdae-48c0-a8e4-e18427ae0a9d",
   "metadata": {
    "tags": []
   },
   "outputs": [
    {
     "data": {
      "text/plain": [
       "True"
      ]
     },
     "execution_count": 55,
     "metadata": {},
     "output_type": "execute_result"
    }
   ],
   "source": [
    "name2.isupper()"
   ]
  },
  {
   "cell_type": "code",
   "execution_count": 56,
   "id": "9bbe43e7-4c70-4748-bec7-8cf9d5222bc2",
   "metadata": {
    "tags": []
   },
   "outputs": [
    {
     "data": {
      "text/plain": [
       "True"
      ]
     },
     "execution_count": 56,
     "metadata": {},
     "output_type": "execute_result"
    }
   ],
   "source": [
    "\"R\".isupper()"
   ]
  },
  {
   "cell_type": "code",
   "execution_count": 57,
   "id": "2aa08901-0285-4ece-98c9-9cc067e2b1ad",
   "metadata": {
    "tags": []
   },
   "outputs": [
    {
     "data": {
      "text/plain": [
       "False"
      ]
     },
     "execution_count": 57,
     "metadata": {},
     "output_type": "execute_result"
    }
   ],
   "source": [
    "\"U\".islower()"
   ]
  },
  {
   "cell_type": "code",
   "execution_count": 58,
   "id": "50138a39-36b9-43e6-b096-fc0a0d97423a",
   "metadata": {
    "tags": []
   },
   "outputs": [],
   "source": [
    "# isnumeric"
   ]
  },
  {
   "cell_type": "code",
   "execution_count": 59,
   "id": "5be48124-9497-4425-aed2-7b380637700b",
   "metadata": {
    "tags": []
   },
   "outputs": [
    {
     "data": {
      "text/plain": [
       "True"
      ]
     },
     "execution_count": 59,
     "metadata": {},
     "output_type": "execute_result"
    }
   ],
   "source": [
    "\"232\".isnumeric()"
   ]
  },
  {
   "cell_type": "code",
   "execution_count": 60,
   "id": "8dd71023-6e28-48eb-a87b-1cb125db7b8d",
   "metadata": {
    "tags": []
   },
   "outputs": [
    {
     "data": {
      "text/plain": [
       "False"
      ]
     },
     "execution_count": 60,
     "metadata": {},
     "output_type": "execute_result"
    }
   ],
   "source": [
    "name.isnumeric()"
   ]
  },
  {
   "cell_type": "code",
   "execution_count": null,
   "id": "fd32e64c-3543-4d11-af20-34e68dd332f0",
   "metadata": {},
   "outputs": [],
   "source": []
  },
  {
   "cell_type": "code",
   "execution_count": 61,
   "id": "a72d0a11-5a39-4aa3-827d-7d8a02628848",
   "metadata": {
    "tags": []
   },
   "outputs": [],
   "source": [
    "#isalpha"
   ]
  },
  {
   "cell_type": "code",
   "execution_count": 69,
   "id": "18e61ac9-d3ba-4928-853d-71b3f1378c87",
   "metadata": {
    "tags": []
   },
   "outputs": [
    {
     "data": {
      "text/plain": [
       "False"
      ]
     },
     "execution_count": 69,
     "metadata": {},
     "output_type": "execute_result"
    }
   ],
   "source": [
    "name.isalpha()   #because space also included"
   ]
  },
  {
   "cell_type": "code",
   "execution_count": 64,
   "id": "63046cb4-836c-4600-b611-5fc97e6bdfb0",
   "metadata": {
    "tags": []
   },
   "outputs": [
    {
     "data": {
      "text/plain": [
       "'pawan kumar'"
      ]
     },
     "execution_count": 64,
     "metadata": {},
     "output_type": "execute_result"
    }
   ],
   "source": [
    "name"
   ]
  },
  {
   "cell_type": "code",
   "execution_count": 68,
   "id": "5e263692-90d0-4521-bda3-369dc451835f",
   "metadata": {
    "tags": []
   },
   "outputs": [
    {
     "data": {
      "text/plain": [
       "True"
      ]
     },
     "execution_count": 68,
     "metadata": {},
     "output_type": "execute_result"
    }
   ],
   "source": [
    "\"pawan\".isalpha()"
   ]
  },
  {
   "cell_type": "code",
   "execution_count": null,
   "id": "dd759ab8-2057-451d-9801-6dc356ef15ca",
   "metadata": {},
   "outputs": [],
   "source": []
  },
  {
   "cell_type": "markdown",
   "id": "3c1063a4-8d70-4959-8d7b-fdc476367779",
   "metadata": {
    "tags": []
   },
   "source": [
    "# String Formating"
   ]
  },
  {
   "cell_type": "code",
   "execution_count": 72,
   "id": "e77b59f5-5c11-4f15-bdfd-22f8ce6d8875",
   "metadata": {
    "tags": []
   },
   "outputs": [
    {
     "name": "stdin",
     "output_type": "stream",
     "text": [
      " pawan\n",
      " 30\n"
     ]
    },
    {
     "name": "stdout",
     "output_type": "stream",
     "text": [
      "hey my name is pawan .And my age is  30\n"
     ]
    }
   ],
   "source": [
    "name= input()\n",
    "age = input()\n",
    "\n",
    "print(\"hey my name is\", name,\".And my age is \", age)"
   ]
  },
  {
   "cell_type": "code",
   "execution_count": null,
   "id": "d4d943c0-c9b9-4d30-a964-fe70d1027e23",
   "metadata": {},
   "outputs": [],
   "source": []
  },
  {
   "cell_type": "code",
   "execution_count": 73,
   "id": "613476bf-1d3b-4149-a486-169fce3aff8c",
   "metadata": {
    "tags": []
   },
   "outputs": [
    {
     "name": "stdin",
     "output_type": "stream",
     "text": [
      " pawan\n",
      " 30\n"
     ]
    },
    {
     "name": "stdout",
     "output_type": "stream",
     "text": [
      "hey my nameis pawan.My age is 30\n"
     ]
    }
   ],
   "source": [
    "name= input()\n",
    "age = input()\n",
    "\n",
    "print(\"hey my nameis {}.My age is {}\".format(name, age))"
   ]
  },
  {
   "cell_type": "code",
   "execution_count": null,
   "id": "3c7fb5d5-e960-4976-9415-5a6a33d45884",
   "metadata": {},
   "outputs": [],
   "source": []
  },
  {
   "cell_type": "code",
   "execution_count": 74,
   "id": "dfdf2b29-e49a-47f6-9d08-4dd66b1975c5",
   "metadata": {
    "tags": []
   },
   "outputs": [
    {
     "name": "stdout",
     "output_type": "stream",
     "text": [
      "hey my nameis 30.My age is pawa\n"
     ]
    }
   ],
   "source": [
    "name= \"pawa\"\n",
    "age = 30\n",
    "\n",
    "print(\"hey my nameis {}.My age is {}\".format(age, name))"
   ]
  },
  {
   "cell_type": "code",
   "execution_count": null,
   "id": "788d0de6-aec8-4d89-9643-bd2321eddfdb",
   "metadata": {},
   "outputs": [],
   "source": []
  },
  {
   "cell_type": "code",
   "execution_count": 75,
   "id": "9ebdef21-4aef-4abf-8b59-723eeadc8bf2",
   "metadata": {
    "tags": []
   },
   "outputs": [],
   "source": [
    "# more advance"
   ]
  },
  {
   "cell_type": "code",
   "execution_count": 76,
   "id": "6023665e-7259-4e5a-b2f2-909c6b62a0ab",
   "metadata": {
    "tags": []
   },
   "outputs": [
    {
     "name": "stdin",
     "output_type": "stream",
     "text": [
      " pawan\n",
      " 40\n"
     ]
    },
    {
     "name": "stdout",
     "output_type": "stream",
     "text": [
      "hey my nameis {name}.My age is {age}\n"
     ]
    }
   ],
   "source": [
    "name= input()\n",
    "age = input()\n",
    "\n",
    "print(\"hey my nameis {name}.My age is {age}\")"
   ]
  },
  {
   "cell_type": "code",
   "execution_count": null,
   "id": "5f33b6b1-48d8-4c80-a829-18536a76bf99",
   "metadata": {
    "tags": []
   },
   "outputs": [],
   "source": [
    "name= input()\n",
    "age = input()\n",
    "\n",
    "print(f\"hey my name is {name}.My age is {age}\") # f for formated string"
   ]
  },
  {
   "cell_type": "code",
   "execution_count": null,
   "id": "ead3e167-0cbe-4c81-b365-b178152df643",
   "metadata": {},
   "outputs": [],
   "source": [
    "name= pawan\n",
    "age = 30\n",
    "\n",
    "print(f\"hey my nameis {name}.My age is {age}\")"
   ]
  },
  {
   "cell_type": "code",
   "execution_count": null,
   "id": "f5f452be-c624-4070-bfba-a4adbb088f08",
   "metadata": {},
   "outputs": [],
   "source": []
  },
  {
   "cell_type": "code",
   "execution_count": 1,
   "id": "de15fd35-1a48-4d17-b33a-c126f5a7cabd",
   "metadata": {
    "tags": []
   },
   "outputs": [],
   "source": [
    "name=\"pawan kumar\""
   ]
  },
  {
   "cell_type": "code",
   "execution_count": 2,
   "id": "1cd3c1fe-41ab-47fe-8550-53d379ad9583",
   "metadata": {
    "tags": []
   },
   "outputs": [
    {
     "data": {
      "text/plain": [
       "'pawan kumar'"
      ]
     },
     "execution_count": 2,
     "metadata": {},
     "output_type": "execute_result"
    }
   ],
   "source": [
    "name"
   ]
  },
  {
   "cell_type": "markdown",
   "id": "8925c1bc-a8e0-46b3-bc8f-f7958c706037",
   "metadata": {
    "tags": []
   },
   "source": [
    "# string concatenation"
   ]
  },
  {
   "cell_type": "code",
   "execution_count": 3,
   "id": "d697eb81-9f73-488c-8f58-9971c7149885",
   "metadata": {
    "tags": []
   },
   "outputs": [
    {
     "data": {
      "text/plain": [
       "'aaa'"
      ]
     },
     "execution_count": 3,
     "metadata": {},
     "output_type": "execute_result"
    }
   ],
   "source": [
    "\"a\"*3"
   ]
  },
  {
   "cell_type": "code",
   "execution_count": 3,
   "id": "ca8b63a9-88c0-4792-98e8-d5ce245d2947",
   "metadata": {},
   "outputs": [
    {
     "name": "stdin",
     "output_type": "stream",
     "text": [
      " pawan\n",
      " kumar\n"
     ]
    },
    {
     "name": "stdout",
     "output_type": "stream",
     "text": [
      "pawankumar\n"
     ]
    }
   ],
   "source": [
    "first = input()\n",
    "last= input()\n",
    "\n",
    "print(first+last)\n"
   ]
  },
  {
   "cell_type": "markdown",
   "id": "bb3efb0e-83ee-4ffa-9b50-8462b3b8fecf",
   "metadata": {},
   "source": [
    " # Print al vowels of a given strings"
   ]
  },
  {
   "cell_type": "code",
   "execution_count": null,
   "id": "8eadca1a-8e71-4e8d-91b2-b296d8454351",
   "metadata": {},
   "outputs": [],
   "source": []
  },
  {
   "cell_type": "code",
   "execution_count": 6,
   "id": "462cf67d-8ea3-471c-8f2a-95cd1b20dbe7",
   "metadata": {
    "tags": []
   },
   "outputs": [],
   "source": [
    "text = \" windows are shut during the rainy time to avoid cold wind\"\n",
    "\n",
    "# string text seperate vowels from string by iterate the string for iterrate use for loop"
   ]
  },
  {
   "cell_type": "code",
   "execution_count": 11,
   "id": "2a571529-4fd6-48e3-981b-b63ddaab60bf",
   "metadata": {
    "tags": []
   },
   "outputs": [
    {
     "name": "stdout",
     "output_type": "stream",
     "text": [
      "  w i n d o w s   a r e   s h u t   d u r i n g   t h e   r a i n y   t i m e   t o   a v o i d   c o l d   w i n d "
     ]
    }
   ],
   "source": [
    "for i in text:\n",
    "    print(i, end=' ')"
   ]
  },
  {
   "cell_type": "code",
   "execution_count": 16,
   "id": "ce77c759-edde-439e-af10-faf426daf26d",
   "metadata": {
    "tags": []
   },
   "outputs": [
    {
     "name": "stdout",
     "output_type": "stream",
     "text": [
      "i o a e u u i e a i i e o a o i o i "
     ]
    }
   ],
   "source": [
    "for i in text:\n",
    "    # check if i in this iteration is a vowel\n",
    "     if  (i==\"a\" or i==\"e\" or i==\"o\" or i==\"u\" or i==\"i\") :\n",
    "        print(i, end=' ')"
   ]
  },
  {
   "cell_type": "code",
   "execution_count": null,
   "id": "8a70356e-dcd8-4f00-815e-fab3796798b3",
   "metadata": {},
   "outputs": [],
   "source": []
  },
  {
   "cell_type": "markdown",
   "id": "66cf2f13-875d-4ba5-8577-43671557b749",
   "metadata": {},
   "source": [
    "# Check Pallindrome\n",
    "\n",
    "### ◀︎  A string is said to be palindeome if the reverse of the string is the same as string\n",
    "### ◆ for example: \"radar\" is a pallindrome but \"radir\" not pallindrom\n",
    "### "
   ]
  },
  {
   "cell_type": "code",
   "execution_count": 17,
   "id": "39396515-1179-48d6-98aa-c3c4e2cda832",
   "metadata": {
    "tags": []
   },
   "outputs": [
    {
     "data": {
      "text/plain": [
       "'nawap'"
      ]
     },
     "execution_count": 17,
     "metadata": {},
     "output_type": "execute_result"
    }
   ],
   "source": [
    " s = \"pawan\"\n",
    "\n",
    "    # reversing is s[: :-1] using string slicing\n",
    "s[: : -1]"
   ]
  },
  {
   "cell_type": "code",
   "execution_count": 19,
   "id": "97d473c4-e897-45cb-9b44-8f771351e0ba",
   "metadata": {
    "tags": []
   },
   "outputs": [
    {
     "name": "stdin",
     "output_type": "stream",
     "text": [
      " malam\n"
     ]
    },
    {
     "name": "stdout",
     "output_type": "stream",
     "text": [
      "yes\n"
     ]
    }
   ],
   "source": [
    "s= input()\n",
    "\n",
    "if s==s[: : -1]: # \n",
    "    print(\"yes\")\n",
    "else:\n",
    "    print(\"No\")"
   ]
  },
  {
   "cell_type": "code",
   "execution_count": null,
   "id": "f6fb8cd0-8388-4ab4-ba26-bfa0a3dd469e",
   "metadata": {},
   "outputs": [],
   "source": []
  }
 ],
 "metadata": {
  "kernelspec": {
   "display_name": "Python 3 (ipykernel)",
   "language": "python",
   "name": "python3"
  },
  "language_info": {
   "codemirror_mode": {
    "name": "ipython",
    "version": 3
   },
   "file_extension": ".py",
   "mimetype": "text/x-python",
   "name": "python",
   "nbconvert_exporter": "python",
   "pygments_lexer": "ipython3",
   "version": "3.11.5"
  }
 },
 "nbformat": 4,
 "nbformat_minor": 5
}
